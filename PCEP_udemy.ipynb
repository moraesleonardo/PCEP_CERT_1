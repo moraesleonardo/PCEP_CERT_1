{
  "nbformat": 4,
  "nbformat_minor": 0,
  "metadata": {
    "colab": {
      "provenance": [],
      "authorship_tag": "ABX9TyOxPRgxuO40UINBA13Ia4cL",
      "include_colab_link": true
    },
    "kernelspec": {
      "name": "python3",
      "display_name": "Python 3"
    },
    "language_info": {
      "name": "python"
    }
  },
  "cells": [
    {
      "cell_type": "markdown",
      "metadata": {
        "id": "view-in-github",
        "colab_type": "text"
      },
      "source": [
        "<a href=\"https://colab.research.google.com/github/moraesleonardo/PCEP_Udemy/blob/main/PCEP_udemy.ipynb\" target=\"_parent\"><img src=\"https://colab.research.google.com/assets/colab-badge.svg\" alt=\"Open In Colab\"/></a>"
      ]
    },
    {
      "cell_type": "markdown",
      "source": [
        "Module1_First_Program"
      ],
      "metadata": {
        "id": "3NmIkzQkOgTz"
      }
    },
    {
      "cell_type": "code",
      "source": [
        "print('Hello, world!')"
      ],
      "metadata": {
        "colab": {
          "base_uri": "https://localhost:8080/"
        },
        "id": "Ov9uvxOxM4xj",
        "outputId": "0e3b3e69-e0c0-405f-d011-b1d8e490b44b"
      },
      "execution_count": null,
      "outputs": [
        {
          "output_type": "stream",
          "name": "stdout",
          "text": [
            "Hello, world!\n"
          ]
        }
      ]
    },
    {
      "cell_type": "markdown",
      "source": [
        "Module1_more_about_print"
      ],
      "metadata": {
        "id": "OsajUjkAP4Yt"
      }
    },
    {
      "cell_type": "code",
      "source": [
        "print('I\\'m studying Python')"
      ],
      "metadata": {
        "id": "K4MvxOvsO06W",
        "colab": {
          "base_uri": "https://localhost:8080/"
        },
        "outputId": "1faa0820-f5b5-4413-e874-ca800e5865ba"
      },
      "execution_count": null,
      "outputs": [
        {
          "output_type": "stream",
          "name": "stdout",
          "text": [
            "I'm studying Python\n"
          ]
        }
      ]
    },
    {
      "cell_type": "code",
      "source": [
        "print('I\\'m studying Python')\n",
        "print('and having fun!')"
      ],
      "metadata": {
        "colab": {
          "base_uri": "https://localhost:8080/"
        },
        "id": "You1ZxUlQr_h",
        "outputId": "2be9dd0e-56dd-4fb4-adb4-a1ad78cebc61"
      },
      "execution_count": null,
      "outputs": [
        {
          "output_type": "stream",
          "name": "stdout",
          "text": [
            "I'm studying Python\n",
            "and having fun!\n"
          ]
        }
      ]
    },
    {
      "cell_type": "code",
      "source": [
        "print('I\\'m studying Python', 'and having fun!')"
      ],
      "metadata": {
        "colab": {
          "base_uri": "https://localhost:8080/"
        },
        "id": "oBEqS9FaRNy1",
        "outputId": "0ccc1e50-84ab-4a34-8c95-e0c2d3093c70"
      },
      "execution_count": null,
      "outputs": [
        {
          "output_type": "stream",
          "name": "stdout",
          "text": [
            "I'm studying Python and having fun!\n"
          ]
        }
      ]
    },
    {
      "cell_type": "code",
      "source": [
        "print('I\\'m studying\\nPython')"
      ],
      "metadata": {
        "colab": {
          "base_uri": "https://localhost:8080/"
        },
        "id": "AAhFp1xsSAC9",
        "outputId": "47bd5f19-3ab0-424c-df40-1946d7be871b"
      },
      "execution_count": null,
      "outputs": [
        {
          "output_type": "stream",
          "name": "stdout",
          "text": [
            "I'm studying\n",
            "Python\n"
          ]
        }
      ]
    },
    {
      "cell_type": "markdown",
      "source": [
        "Module1_variable"
      ],
      "metadata": {
        "id": "DnniIdPjecTO"
      }
    },
    {
      "cell_type": "code",
      "source": [
        "greeting = 'Hello, friend!'\n",
        "print(greeting)"
      ],
      "metadata": {
        "colab": {
          "base_uri": "https://localhost:8080/"
        },
        "id": "F44bAs19egOe",
        "outputId": "50da9446-2a11-47df-913c-98f450ba1626"
      },
      "execution_count": null,
      "outputs": [
        {
          "output_type": "stream",
          "name": "stdout",
          "text": [
            "Hello, friend!\n"
          ]
        }
      ]
    },
    {
      "cell_type": "markdown",
      "source": [
        "Module1_data_types"
      ],
      "metadata": {
        "id": "3ZifbwlDg0OE"
      }
    },
    {
      "cell_type": "code",
      "source": [
        "greeting = 'Hello, friend!' #string\n",
        "age = 35 #integer\n",
        "speed = 4.5 #float (python always uses \".\" to introduce floats)\n",
        "am_i_ugly = True #boolean (python always uses capital letters \"T\" and \"F\")"
      ],
      "metadata": {
        "id": "dt4HW2Tde1v7"
      },
      "execution_count": null,
      "outputs": []
    },
    {
      "cell_type": "markdown",
      "source": [
        "Module1_numerical_representations"
      ],
      "metadata": {
        "id": "wWyRu7fcifMR"
      }
    },
    {
      "cell_type": "code",
      "source": [
        "# underscores in numbers (that is possible)\n",
        "12000300\n",
        "12_000_300"
      ],
      "metadata": {
        "colab": {
          "base_uri": "https://localhost:8080/"
        },
        "id": "MJjC61vNgtHK",
        "outputId": "55355524-2fc7-4906-f882-c046e8341cf4"
      },
      "execution_count": null,
      "outputs": [
        {
          "output_type": "execute_result",
          "data": {
            "text/plain": [
              "12000300"
            ]
          },
          "metadata": {},
          "execution_count": 22
        }
      ]
    },
    {
      "cell_type": "code",
      "source": [
        "#octal number\n",
        "#start with 0O or 0o (just to identify)\n",
        "\n",
        "#hexadecimal number\n",
        "#start with 0X or 0x (just to identify)\n",
        "print(0x123)"
      ],
      "metadata": {
        "colab": {
          "base_uri": "https://localhost:8080/"
        },
        "id": "DH7SNkPJjmLt",
        "outputId": "1dfb24f2-2ff5-4150-8d41-963967df8b58"
      },
      "execution_count": null,
      "outputs": [
        {
          "output_type": "stream",
          "name": "stdout",
          "text": [
            "291\n"
          ]
        }
      ]
    },
    {
      "cell_type": "markdown",
      "source": [
        "Module1_Operators "
      ],
      "metadata": {
        "id": "XGlnS9-fkMfI"
      }
    },
    {
      "cell_type": "code",
      "source": [
        "2 + 3"
      ],
      "metadata": {
        "colab": {
          "base_uri": "https://localhost:8080/"
        },
        "id": "ts41S8iNj7Xj",
        "outputId": "c7339372-890d-40b8-ff5a-8149700e2ed5"
      },
      "execution_count": null,
      "outputs": [
        {
          "output_type": "execute_result",
          "data": {
            "text/plain": [
              "5"
            ]
          },
          "metadata": {},
          "execution_count": 27
        }
      ]
    },
    {
      "cell_type": "code",
      "source": [
        "5 - 4"
      ],
      "metadata": {
        "colab": {
          "base_uri": "https://localhost:8080/"
        },
        "id": "t-_jqks1ofYV",
        "outputId": "f7a9289a-02a6-4dce-ca4a-698f214aac12"
      },
      "execution_count": null,
      "outputs": [
        {
          "output_type": "execute_result",
          "data": {
            "text/plain": [
              "1"
            ]
          },
          "metadata": {},
          "execution_count": 28
        }
      ]
    },
    {
      "cell_type": "code",
      "source": [
        "3 * 5"
      ],
      "metadata": {
        "colab": {
          "base_uri": "https://localhost:8080/"
        },
        "id": "hvAlvlWeojWV",
        "outputId": "bfc090db-10b5-4a72-ed6e-5a8c9ecca313"
      },
      "execution_count": null,
      "outputs": [
        {
          "output_type": "execute_result",
          "data": {
            "text/plain": [
              "15"
            ]
          },
          "metadata": {},
          "execution_count": 29
        }
      ]
    },
    {
      "cell_type": "code",
      "source": [
        "# standard division"
      ],
      "metadata": {
        "id": "ay_yzp0rokvE"
      },
      "execution_count": null,
      "outputs": []
    },
    {
      "cell_type": "code",
      "source": [
        "6 / 2"
      ],
      "metadata": {
        "colab": {
          "base_uri": "https://localhost:8080/"
        },
        "id": "k8BNvwhrpBoz",
        "outputId": "28888152-fbfc-446c-b614-700ff3e0039e"
      },
      "execution_count": null,
      "outputs": [
        {
          "output_type": "execute_result",
          "data": {
            "text/plain": [
              "3.0"
            ]
          },
          "metadata": {},
          "execution_count": 30
        }
      ]
    },
    {
      "cell_type": "code",
      "source": [
        "7 / 2"
      ],
      "metadata": {
        "colab": {
          "base_uri": "https://localhost:8080/"
        },
        "id": "nDHSwve0pGsU",
        "outputId": "034de9ae-9f69-4572-a398-b40a81295a34"
      },
      "execution_count": null,
      "outputs": [
        {
          "output_type": "execute_result",
          "data": {
            "text/plain": [
              "3.5"
            ]
          },
          "metadata": {},
          "execution_count": 31
        }
      ]
    },
    {
      "cell_type": "code",
      "source": [
        "# integer division (nearest whole number rounded down)\n",
        "7 // 2 "
      ],
      "metadata": {
        "colab": {
          "base_uri": "https://localhost:8080/"
        },
        "id": "v7B9jzTSpAhz",
        "outputId": "169b0e3f-68d2-43bc-a8c8-69e1c0b34c4a"
      },
      "execution_count": null,
      "outputs": [
        {
          "output_type": "execute_result",
          "data": {
            "text/plain": [
              "3"
            ]
          },
          "metadata": {},
          "execution_count": 44
        }
      ]
    },
    {
      "cell_type": "code",
      "source": [
        "# modulus division (rest number)\n",
        "6 % 2"
      ],
      "metadata": {
        "colab": {
          "base_uri": "https://localhost:8080/"
        },
        "id": "LsP7V28jpQDi",
        "outputId": "a5e59a25-e226-45aa-f9e5-bfce1da540cb"
      },
      "execution_count": null,
      "outputs": [
        {
          "output_type": "execute_result",
          "data": {
            "text/plain": [
              "0"
            ]
          },
          "metadata": {},
          "execution_count": 37
        }
      ]
    },
    {
      "cell_type": "code",
      "source": [
        "7 % 2"
      ],
      "metadata": {
        "colab": {
          "base_uri": "https://localhost:8080/"
        },
        "id": "zcS24-rJp0-s",
        "outputId": "12f85fb3-1227-47d3-fab9-61eec8e95bf0"
      },
      "execution_count": null,
      "outputs": [
        {
          "output_type": "execute_result",
          "data": {
            "text/plain": [
              "1"
            ]
          },
          "metadata": {},
          "execution_count": 34
        }
      ]
    },
    {
      "cell_type": "code",
      "source": [
        "# We can not divide by \"0\" (zero division error)"
      ],
      "metadata": {
        "id": "wdaeJeThp5dU"
      },
      "execution_count": null,
      "outputs": []
    },
    {
      "cell_type": "code",
      "source": [
        "# power operator\n",
        "2 ** 3"
      ],
      "metadata": {
        "colab": {
          "base_uri": "https://localhost:8080/"
        },
        "id": "6NWSzlFjqIij",
        "outputId": "444aa38d-dd2e-4fa3-a590-fcdec8e9d925"
      },
      "execution_count": null,
      "outputs": [
        {
          "output_type": "execute_result",
          "data": {
            "text/plain": [
              "8"
            ]
          },
          "metadata": {},
          "execution_count": 40
        }
      ]
    },
    {
      "cell_type": "code",
      "source": [
        "2 + 3.0 #integer plus float we get a float"
      ],
      "metadata": {
        "colab": {
          "base_uri": "https://localhost:8080/"
        },
        "id": "hZuT4kxsq6Ph",
        "outputId": "6f8d234f-a073-4e3e-c1a3-ce9be042600c"
      },
      "execution_count": null,
      "outputs": [
        {
          "output_type": "execute_result",
          "data": {
            "text/plain": [
              "5.0"
            ]
          },
          "metadata": {},
          "execution_count": 43
        }
      ]
    },
    {
      "cell_type": "markdown",
      "source": [
        "Exercise (Variables and Operators)\n",
        "\n",
        "In a fictional country named Lowtaxland, the income tax is 5%. In another fictional country, Ripoffland, the income tax is 43%. You are given a sample variable named income with the value of 250,000.\n",
        "\n",
        "1. Create two additional variables: lowtaxland_rate with the value of 0.05 (which is the same as 5%) and ripoffland_rate with the value of 0.43 (which is the same as 43%).\n",
        "\n",
        "2. Print to the output the following:\n",
        "\n",
        "Your income is {income} and you would pay {tax amount in Lowtaxland} income tax in Lowtaxland or {tax amount in Ripoffland} income tax in Ripoffland. You would save {difference between the tax amounts} by paying taxes in Lowtaxland!\n",
        "\n",
        "Your solution must replace the curly brackets (e.g. {income}) with the actual values (e.g. 250000). The values must be calculated correctly. The tax amount should be calculated as {income * lowtaxland_rate} for Lowtaxland, and {income * ripoffland_rate} for Ripoffland, respectively."
      ],
      "metadata": {
        "id": "b7J-oEJ_tXU9"
      }
    },
    {
      "cell_type": "code",
      "source": [
        "income = 250_000\n",
        "\n",
        "lowtaxland_rate = 0.05\n",
        "ripoffland_rate = 0.43\n",
        "\n",
        "print('Your income is', income, 'and you would pay', income * lowtaxland_rate, 'income tax in Lowtaxland or', \\\n",
        "income * ripoffland_rate, 'income tax in Ripoffland. You would save', income * ripoffland_rate - income * lowtaxland_rate, 'by paying taxes in Lowtaxland!')"
      ],
      "metadata": {
        "colab": {
          "base_uri": "https://localhost:8080/"
        },
        "id": "JP-wTzm1rOuf",
        "outputId": "f20e8b3f-c47e-4496-dc94-d4903e503579"
      },
      "execution_count": null,
      "outputs": [
        {
          "output_type": "stream",
          "name": "stdout",
          "text": [
            "Your income is 250000 and you would pay 12500.0 income tax in Lowtaxland or 107500.0 income tax in Ripoffland. You would save 95000.0 by paying taxes in Lowtaxland!\n"
          ]
        }
      ]
    },
    {
      "cell_type": "markdown",
      "source": [
        "Module1_reassigning_values"
      ],
      "metadata": {
        "id": "sEBvORDEtvxb"
      }
    },
    {
      "cell_type": "code",
      "source": [
        "age = 28\n",
        "new_age = age + 5 #age += 7 #print(age)\n",
        "print(new_age)"
      ],
      "metadata": {
        "id": "jI6GNZRet3V8",
        "colab": {
          "base_uri": "https://localhost:8080/"
        },
        "outputId": "48bf7dd6-f48f-43c8-f0cd-a4889830c5fd"
      },
      "execution_count": null,
      "outputs": [
        {
          "output_type": "stream",
          "name": "stdout",
          "text": [
            "33\n"
          ]
        }
      ]
    },
    {
      "cell_type": "code",
      "source": [
        "# age *= 2\n",
        "# age -= 5\n",
        "# age /= 3"
      ],
      "metadata": {
        "id": "NT56ISFpTTPi"
      },
      "execution_count": null,
      "outputs": []
    },
    {
      "cell_type": "code",
      "source": [
        "text = 'hokus' + 'pokus'\n",
        "print(text)"
      ],
      "metadata": {
        "colab": {
          "base_uri": "https://localhost:8080/"
        },
        "id": "Dza5VN67UH1Y",
        "outputId": "f626e8a9-4d0e-4f3a-e43a-4f2d425ed55f"
      },
      "execution_count": null,
      "outputs": [
        {
          "output_type": "stream",
          "name": "stdout",
          "text": [
            "hokuspokus\n"
          ]
        }
      ]
    },
    {
      "cell_type": "code",
      "source": [
        "print('hokus' * 5)"
      ],
      "metadata": {
        "colab": {
          "base_uri": "https://localhost:8080/"
        },
        "id": "R6dBgSVIURna",
        "outputId": "ce77d173-ee12-46fc-b4f5-bce0027e49b4"
      },
      "execution_count": null,
      "outputs": [
        {
          "output_type": "stream",
          "name": "stdout",
          "text": [
            "hokushokushokushokushokus\n"
          ]
        }
      ]
    },
    {
      "cell_type": "code",
      "source": [
        "print(23 + 5)"
      ],
      "metadata": {
        "colab": {
          "base_uri": "https://localhost:8080/"
        },
        "id": "aYGOtjjaUXA0",
        "outputId": "37548165-1a35-4277-991c-d5c399b67b5c"
      },
      "execution_count": null,
      "outputs": [
        {
          "output_type": "stream",
          "name": "stdout",
          "text": [
            "28\n"
          ]
        }
      ]
    },
    {
      "cell_type": "code",
      "source": [
        "print('23' + '5')"
      ],
      "metadata": {
        "colab": {
          "base_uri": "https://localhost:8080/"
        },
        "id": "TWW--PD6UfUD",
        "outputId": "476ab8a1-d639-42a6-eda9-26a6f57bf0b4"
      },
      "execution_count": null,
      "outputs": [
        {
          "output_type": "stream",
          "name": "stdout",
          "text": [
            "235\n"
          ]
        }
      ]
    },
    {
      "cell_type": "markdown",
      "source": [
        "Module1_input"
      ],
      "metadata": {
        "id": "RzGvWID_Upo4"
      }
    },
    {
      "cell_type": "code",
      "source": [
        "print('What is your name?') #user_name = input('What is your name?')\n",
        "user_name = input()\n",
        "print('Hello', user_name)"
      ],
      "metadata": {
        "colab": {
          "base_uri": "https://localhost:8080/"
        },
        "id": "cFqBSnEaUjqb",
        "outputId": "b0a730ff-9d18-48d0-8125-43b9ee70a9fc"
      },
      "execution_count": null,
      "outputs": [
        {
          "output_type": "stream",
          "name": "stdout",
          "text": [
            "What is your name?\n",
            "Leonardo\n",
            "Hello Leonardo\n"
          ]
        }
      ]
    },
    {
      "cell_type": "code",
      "source": [],
      "metadata": {
        "id": "b57Gllo5VivE"
      },
      "execution_count": null,
      "outputs": []
    },
    {
      "cell_type": "markdown",
      "source": [
        "Exercise:\n",
        "Practising input()\n",
        "Ask the user to provide their login and native language. Use the following prompts:\n",
        "\n",
        "Enter your login: << remember to add a space at the end of this prompt!\n",
        "Enter your native language: << remember to add a space at the end of this prompt!\n",
        "\n",
        "Then, show the user the following message:\n",
        "\n",
        "Your login is {login provided} and you speak {language provided}\n",
        "\n",
        "For example, if the user provides the login h_potter and language British English, show:\n",
        "\n",
        "Your login is h_potter and you speak British English\n",
        "\n",
        "Watch out for typos: you must show the output in this particular format!"
      ],
      "metadata": {
        "id": "H8Rg5pMqWitx"
      }
    },
    {
      "cell_type": "code",
      "source": [
        "user_login = input('Enter your login: ')\n",
        "\n",
        "user_native_language = input('Enter your native language: ')\n",
        "\n",
        "print('Your login is', user_login, 'and you speak', user_native_language)"
      ],
      "metadata": {
        "colab": {
          "base_uri": "https://localhost:8080/"
        },
        "id": "sWUrvSqsWmv_",
        "outputId": "4f4c738c-7182-4f75-a470-671cdd6f48a4"
      },
      "execution_count": null,
      "outputs": [
        {
          "output_type": "stream",
          "name": "stdout",
          "text": [
            "Enter your login: login\n",
            "Enter your native language: portuguese\n",
            "Your login is login and you speak portuguese\n"
          ]
        }
      ]
    },
    {
      "cell_type": "markdown",
      "source": [
        "computer program = a collection os instructions executed by a computer\n",
        "\n",
        "instruction list = the set of instructions the given computer can execute; written in the form of machine code\n",
        "\n",
        "compilation:\n",
        "\n",
        "- compile source code only once\n",
        "- anyone can run the executable file\n",
        "\n",
        "interpretation: \n",
        "\n",
        "- interpret source code every time you run programs\n",
        "- everyone needs the interpreter to run\n",
        "\n",
        "Python interpreter bahavior\n",
        "\n",
        "- typically reads core from top to bottom\n",
        "- throws errors based on checking:\n",
        "1. lexis (variable names are special key words)\n",
        "2. syntax (input() function requires a pair of brackets)\n",
        "3. semantics (input() function do not accept multiple arguments)"
      ],
      "metadata": {
        "id": "tbWYQfPOW7_I"
      }
    },
    {
      "cell_type": "markdown",
      "source": [
        "Module2_type_casting "
      ],
      "metadata": {
        "id": "xJv_oxWKpupY"
      }
    },
    {
      "cell_type": "code",
      "source": [
        "height_cm = input('Height converter:enter your height in cm: ')\n",
        "float_height_cm = float(height_cm) # input function always return a string. We shoud use float() function to transform from string to float\n",
        "print('You height in feet is: ', float_height_cm / 30.48)"
      ],
      "metadata": {
        "colab": {
          "base_uri": "https://localhost:8080/"
        },
        "id": "kqPgX_FilEtH",
        "outputId": "827e6dc6-2893-4530-aa6f-fd2bacf5d029"
      },
      "execution_count": null,
      "outputs": [
        {
          "output_type": "stream",
          "name": "stdout",
          "text": [
            "Height converter:enter your height in cm: 163\n",
            "You height in feet is:  5.347769028871391\n"
          ]
        }
      ]
    },
    {
      "cell_type": "code",
      "source": [
        "height_cm = float(input('Height converter:enter your height in cm: ')) # input function always return a string. We shoud use float() function to transform from string to float\n",
        "print('You height in feet is: ', height_cm / 30.48)"
      ],
      "metadata": {
        "colab": {
          "base_uri": "https://localhost:8080/"
        },
        "id": "5vYFZFjhqjoO",
        "outputId": "27b492f8-0b8f-422d-f3ff-7c206bda46e6"
      },
      "execution_count": null,
      "outputs": [
        {
          "output_type": "stream",
          "name": "stdout",
          "text": [
            "Height converter:enter your height in cm: 163\n",
            "You height in feet is:  5.347769028871391\n"
          ]
        }
      ]
    },
    {
      "cell_type": "code",
      "source": [
        "year_born = int(input('What year were you born?')) # input function always return a string. We shoud use int() function to transform from string to integer\n",
        "print('In 2100, you will be', 2100 - year_born, 'years old, provided you live this long!')"
      ],
      "metadata": {
        "colab": {
          "base_uri": "https://localhost:8080/"
        },
        "id": "M5VxbGCVrHrv",
        "outputId": "717ed43c-3dc6-479d-80dc-8afb9362384d"
      },
      "execution_count": null,
      "outputs": [
        {
          "output_type": "stream",
          "name": "stdout",
          "text": [
            "What year were you born?1978\n",
            "In 2100, you will be 122 years old, provided you live this long!\n"
          ]
        }
      ]
    },
    {
      "cell_type": "code",
      "source": [
        "temp_c = input('Enter the temperature today in Celsius degrees: ')\n",
        "temp_f = float(temp_c) * 1.8 + 32\n",
        "temp_statement = str(temp_c) + ' degrees Celsius equals ' + str(temp_f) + ' degrees in Fahrenheit.'\n",
        "print(temp_statement)"
      ],
      "metadata": {
        "colab": {
          "base_uri": "https://localhost:8080/"
        },
        "id": "rwxbSedjrl9M",
        "outputId": "c5326388-a71c-4e8f-d567-5dc6b54b5f20"
      },
      "execution_count": null,
      "outputs": [
        {
          "output_type": "stream",
          "name": "stdout",
          "text": [
            "Enter the temperature today in Celsius degrees: 32\n",
            "32 degrees Celsius equals 89.6 degrees in Fahrenheit.\n"
          ]
        }
      ]
    },
    {
      "cell_type": "markdown",
      "source": [
        "Exercise:\n",
        "Salary calculator\n",
        "Ask the user for the number of hours they worked last month and their hourly rate (both numbers should be floats). Use the following prompts:\n",
        "\n",
        "How many hours did you work last month? << add a space at the end of this prompt\n",
        "What is your hourly rate? << add a space at the end of this prompt\n",
        "\n",
        "Then, show the following message with the calculated salary:\n",
        "\n",
        "Last month, you earned {hours * hourly_rate} dollars\n",
        "\n",
        "The salary should be shown as a float number. For example, for input 30 hours and hourly rate 10.5, show:\n",
        "\n",
        "Last month, you earned 315.0 dollars\n",
        "\n",
        "Watch out for typos: you must show the output in this particular format!"
      ],
      "metadata": {
        "id": "mhXIiVkTtMcV"
      }
    },
    {
      "cell_type": "code",
      "source": [
        "hours = float(input('How many hours did you work last month? '))\n",
        "\n",
        "hourly_rate = float(input('What is your hourly rate? '))\n",
        "\n",
        "print('Last month, you earned', hours * hourly_rate,'dollars')"
      ],
      "metadata": {
        "colab": {
          "base_uri": "https://localhost:8080/"
        },
        "id": "RWwaKr0HtRT3",
        "outputId": "bca5a545-30cb-4df8-c04e-ff6947fea6f0"
      },
      "execution_count": null,
      "outputs": [
        {
          "output_type": "stream",
          "name": "stdout",
          "text": [
            "How many hours did you work last month? 40\n",
            "What is your hourly rate? 6\n",
            "Last month, you earned 240.0 dollars!\n"
          ]
        }
      ]
    },
    {
      "cell_type": "markdown",
      "source": [
        "Module2_more_about_operators"
      ],
      "metadata": {
        "id": "64kddaAjwkQ_"
      }
    },
    {
      "cell_type": "code",
      "source": [
        "(2 + 3) * 2"
      ],
      "metadata": {
        "colab": {
          "base_uri": "https://localhost:8080/"
        },
        "id": "L1DyAuBawoH8",
        "outputId": "d09963c1-196b-4167-9de6-a369481c78f4"
      },
      "execution_count": null,
      "outputs": [
        {
          "output_type": "execute_result",
          "data": {
            "text/plain": [
              "10"
            ]
          },
          "metadata": {},
          "execution_count": 9
        }
      ]
    },
    {
      "cell_type": "code",
      "source": [
        "print(0.1 + 0.1 + 0.1)"
      ],
      "metadata": {
        "colab": {
          "base_uri": "https://localhost:8080/"
        },
        "id": "DnhLY89dxL_C",
        "outputId": "9982a7bd-016b-4739-869b-63116a9549a7"
      },
      "execution_count": null,
      "outputs": [
        {
          "output_type": "stream",
          "name": "stdout",
          "text": [
            "0.30000000000000004\n"
          ]
        }
      ]
    },
    {
      "cell_type": "code",
      "source": [
        "2 ** 2 ** 3\n",
        "# 4 ** 3 = 64 (left -> right) incorrect answer\n",
        "# 2 ** 8 = 256 (right -> left) correct answer"
      ],
      "metadata": {
        "colab": {
          "base_uri": "https://localhost:8080/"
        },
        "id": "_0KB25IsxoFn",
        "outputId": "35eadd46-b219-43d6-a957-19bdd4e1dd82"
      },
      "execution_count": null,
      "outputs": [
        {
          "output_type": "execute_result",
          "data": {
            "text/plain": [
              "256"
            ]
          },
          "metadata": {},
          "execution_count": 11
        }
      ]
    },
    {
      "cell_type": "markdown",
      "source": [
        "Module2_more_about_print_and_strings"
      ],
      "metadata": {
        "id": "SRnB7681zNje"
      }
    },
    {
      "cell_type": "code",
      "source": [
        "len('Hello!')"
      ],
      "metadata": {
        "colab": {
          "base_uri": "https://localhost:8080/"
        },
        "id": "BOooKahjzSJ2",
        "outputId": "2eeac488-b661-4246-ff30-19b1ee873d73"
      },
      "execution_count": null,
      "outputs": [
        {
          "output_type": "execute_result",
          "data": {
            "text/plain": [
              "6"
            ]
          },
          "metadata": {},
          "execution_count": 13
        }
      ]
    },
    {
      "cell_type": "code",
      "source": [
        "print('Hello, World!')\n",
        "print('Python speaking!')"
      ],
      "metadata": {
        "colab": {
          "base_uri": "https://localhost:8080/"
        },
        "id": "dmfkSN_JzZhJ",
        "outputId": "c7a183d6-283d-4659-c1d1-ce3b84dec2cf"
      },
      "execution_count": null,
      "outputs": [
        {
          "output_type": "stream",
          "name": "stdout",
          "text": [
            "Hello, World!\n",
            "Python speaking!\n"
          ]
        }
      ]
    },
    {
      "cell_type": "code",
      "source": [
        "print('Hello, World!', end='.')\n",
        "print('Python speaking!')"
      ],
      "metadata": {
        "colab": {
          "base_uri": "https://localhost:8080/"
        },
        "id": "6-YWJ2YlztnY",
        "outputId": "cc6fbff8-2ab8-4112-b350-098cd1d2970e"
      },
      "execution_count": null,
      "outputs": [
        {
          "output_type": "stream",
          "name": "stdout",
          "text": [
            "Hello, World!.Python speaking!\n"
          ]
        }
      ]
    },
    {
      "cell_type": "code",
      "source": [
        "first_name = 'John'\n",
        "print('Your first name is', first_name, 'Welcome!', sep='-')"
      ],
      "metadata": {
        "colab": {
          "base_uri": "https://localhost:8080/"
        },
        "id": "Y6iWdxbz0adh",
        "outputId": "0d9dfb1d-28c8-43b0-8fa4-fad81ad10e50"
      },
      "execution_count": null,
      "outputs": [
        {
          "output_type": "stream",
          "name": "stdout",
          "text": [
            "Your first name is-John-Welcome!\n"
          ]
        }
      ]
    },
    {
      "cell_type": "code",
      "source": [],
      "metadata": {
        "id": "CR_gJE5r0c6y"
      },
      "execution_count": null,
      "outputs": []
    },
    {
      "cell_type": "markdown",
      "source": [
        "Module3_if_instruction"
      ],
      "metadata": {
        "id": "rR4eBQsY_Vqz"
      }
    },
    {
      "cell_type": "code",
      "source": [
        "user_age = int(input('What is your age? '))\n",
        "if user_age > 30:\n",
        "  print('You are over 30 years old')\n",
        "  print('Sorry, you do not qualify')\n",
        "elif user_age == 30:\n",
        "  print('You are exactly 30 years old')\n",
        "  print('You will need to meet additional conditions to qualify')\n",
        "else:\n",
        "  print('You are 30 years old or younger')\n",
        "  print('Congratulations, you qualify!')"
      ],
      "metadata": {
        "colab": {
          "base_uri": "https://localhost:8080/"
        },
        "id": "RTrkafo7_dWq",
        "outputId": "8db6b9bc-feba-4df3-a76e-308601ecc0b1"
      },
      "execution_count": null,
      "outputs": [
        {
          "output_type": "stream",
          "name": "stdout",
          "text": [
            "What is your age? 30\n",
            "You are exactly 30 years old\n",
            "You will need to meet additional conditions to qualify\n"
          ]
        }
      ]
    },
    {
      "cell_type": "markdown",
      "source": [
        "Module3_logical_operators_conditions"
      ],
      "metadata": {
        "id": "jy9yqznDBrK9"
      }
    },
    {
      "cell_type": "code",
      "source": [
        "# available logical operators\n",
        "# < less than\n",
        "# > greater than\n",
        "# <= less than or equal\n",
        "# >= greater than or equal\n",
        "# == equals\n",
        "# != not equals"
      ],
      "metadata": {
        "id": "9oXd0Jxd_2B9"
      },
      "execution_count": null,
      "outputs": []
    },
    {
      "cell_type": "markdown",
      "source": [
        "Module3_joining_multiple_conditions"
      ],
      "metadata": {
        "id": "Qhj3kAJIDJL9"
      }
    },
    {
      "cell_type": "code",
      "source": [
        "user_age = int(input('What is your age?'))\n",
        "user_country = input('What is your country?')\n",
        "\n",
        "if user_age < 25 and user_country == 'Germany':\n",
        "  print('You can apply for a German student exchange programme')\n",
        "else:\n",
        "  print('Sorry, you do not qualify')"
      ],
      "metadata": {
        "colab": {
          "base_uri": "https://localhost:8080/"
        },
        "id": "agw6VEdqCSrp",
        "outputId": "8a32bc85-11aa-41b4-8706-8a2d992ac95a"
      },
      "execution_count": null,
      "outputs": [
        {
          "output_type": "stream",
          "name": "stdout",
          "text": [
            "What is your age?23\n",
            "What is your country?Germany\n",
            "You can apply for a German student exchange programme\n"
          ]
        }
      ]
    },
    {
      "cell_type": "code",
      "source": [
        "user_country = input('What is your country?')\n",
        "\n",
        "if user_country == 'Sweden' or user_country == 'Denmark' or user_country == 'Norway':\n",
        "  print('You can apply for a Scandinavian student exchange programme')\n",
        "else:\n",
        "  print('Sorry, you do not qualify')"
      ],
      "metadata": {
        "colab": {
          "base_uri": "https://localhost:8080/"
        },
        "id": "3-fyZoY49iK5",
        "outputId": "c7db396c-0ca7-471d-8cc9-d7dab87ff28e"
      },
      "execution_count": null,
      "outputs": [
        {
          "output_type": "stream",
          "name": "stdout",
          "text": [
            "What is your country?Denmark\n",
            "You can apply for a Scandinavian student exchange programme\n"
          ]
        }
      ]
    },
    {
      "cell_type": "code",
      "source": [
        "user_country = input('What is your country?')\n",
        "\n",
        "if not user_country == 'Germany':\n",
        "  print('You are not from Germany')\n",
        "else:\n",
        "  print('You are from Germany')"
      ],
      "metadata": {
        "colab": {
          "base_uri": "https://localhost:8080/"
        },
        "id": "Y2YiYhGh926W",
        "outputId": "93df6b51-6cfc-418c-89ca-c7782f7e7f5e"
      },
      "execution_count": null,
      "outputs": [
        {
          "output_type": "stream",
          "name": "stdout",
          "text": [
            "What is your country?Poland\n",
            "You are not from Germany\n"
          ]
        }
      ]
    },
    {
      "cell_type": "code",
      "source": [
        "user_age = int(input('What is your age?'))\n",
        "user_country = input('What is your country?')\n",
        "\n",
        "if not user_country == 'Germany' and user_age < 25 or \\\n",
        "user_country == 'Germany' and user_age < 23:\n",
        "  print('You qualify')\n",
        "else:\n",
        "  print('Sorry, you don\\'t qualify')"
      ],
      "metadata": {
        "colab": {
          "base_uri": "https://localhost:8080/"
        },
        "id": "JH8oDvxC-Qwv",
        "outputId": "7afd87c2-834e-4bfb-ead0-17f3322d4b12"
      },
      "execution_count": null,
      "outputs": [
        {
          "output_type": "stream",
          "name": "stdout",
          "text": [
            "What is your age?23\n",
            "What is your country?Thailand\n",
            "You qualify\n"
          ]
        }
      ]
    },
    {
      "cell_type": "code",
      "source": [
        "# 1. not\n",
        "# 2. and\n",
        "# 3. or"
      ],
      "metadata": {
        "id": "IqZ4-yQaAJ01"
      },
      "execution_count": null,
      "outputs": []
    },
    {
      "cell_type": "markdown",
      "source": [
        "Module3_nested_if"
      ],
      "metadata": {
        "id": "dES8_8V5AXgK"
      }
    },
    {
      "cell_type": "code",
      "source": [
        "answer_a = input('Do you like traveling? y/n:')\n",
        "if answer_a =='y':\n",
        "  answer_b = input('And do you like Asia? y/n: ')\n",
        "  if answer_b == 'y':\n",
        "    print('Excellent! You can win a ticket to Thailand!')\n",
        "  else:\n",
        "    print('Sorry to hear that!')  \n",
        "else:\n",
        "  print('Sorry to hear that!')"
      ],
      "metadata": {
        "colab": {
          "base_uri": "https://localhost:8080/"
        },
        "id": "w4WIwXXbAPnp",
        "outputId": "7a302a91-90d7-4a78-9dbf-5cad448781ed"
      },
      "execution_count": null,
      "outputs": [
        {
          "output_type": "stream",
          "name": "stdout",
          "text": [
            "Do you like traveling? y/n:y\n",
            "And do you like Asia? y/n: y\n",
            "Excellent! You can win a ticket to Thailand!\n"
          ]
        }
      ]
    },
    {
      "cell_type": "markdown",
      "source": [
        "Exercise: \n",
        "Refund Policy Helper\n",
        "Let's help an online store with their new refund policy. In this store, you can return an item and get a refund in 2 cases:\n",
        "\n",
        "1. Within 10 days from the day of purchase, given that you have not used the item, or\n",
        "2. No matter when you bought it, when the item broke down through no fault of your own.\n",
        "\n",
        "Write a program that first asks the user three questions and then informs them whether they can get a refund. Ask the following questions:\n",
        "\n",
        "How many days ago have you purchased the item? << add a space at the end of this prompt\n",
        "\n",
        "Have you used the item at all [y/n]?  << add a space at the end of this prompt\n",
        "\n",
        "Has the item broken down on its own [y/n]?  << add a space at the end of this prompt\n",
        "\n",
        "Based on the answers and the refund policy explained above, print either:\n",
        "You can get a refund.\n",
        "or:\n",
        "You cannot get a refund."
      ],
      "metadata": {
        "id": "SETiFTCdB18P"
      }
    },
    {
      "cell_type": "code",
      "source": [
        "purchase_days_ago = int(input('How many days ago have you purchased the item? '))\n",
        "is_used = input('Have you used the item at all [y/n]? ')\n",
        "is_broken = input('Has the item broken down on its own [y/n]? ')\n",
        " \n",
        "if(is_broken == 'y' or (purchase_days_ago <= 10 and is_used == 'n')):\n",
        "  print('You can get a refund.')\n",
        "else:\n",
        "  print('You cannot get a refund.')"
      ],
      "metadata": {
        "colab": {
          "base_uri": "https://localhost:8080/"
        },
        "id": "JhKZF7tNA6cv",
        "outputId": "387fbec9-42dc-469b-b38e-f40dad2db25f"
      },
      "execution_count": null,
      "outputs": [
        {
          "output_type": "stream",
          "name": "stdout",
          "text": [
            "How many days ago have you purchased the item? 12\n",
            "Have you used the item at all [y/n]? y\n",
            "Has the item broken down on its own [y/n]? y\n",
            "You can get a refund.\n"
          ]
        }
      ]
    },
    {
      "cell_type": "markdown",
      "source": [
        "Module3_while_loop"
      ],
      "metadata": {
        "id": "oHlLUocvFq_R"
      }
    },
    {
      "cell_type": "code",
      "source": [
        "counter = 1\n",
        "while counter < 11:\n",
        "  print(counter)\n",
        "  counter += 1\n",
        "print('Finished!')"
      ],
      "metadata": {
        "colab": {
          "base_uri": "https://localhost:8080/"
        },
        "id": "x5G2ymgNB7E-",
        "outputId": "3ef4ec58-7bba-4116-9a5b-07fc3c1e8dda"
      },
      "execution_count": null,
      "outputs": [
        {
          "output_type": "stream",
          "name": "stdout",
          "text": [
            "1\n",
            "2\n",
            "3\n",
            "4\n",
            "5\n",
            "6\n",
            "7\n",
            "8\n",
            "9\n",
            "10\n",
            "Finished!\n"
          ]
        }
      ]
    },
    {
      "cell_type": "code",
      "source": [
        "secret_number = 14\n",
        "print('''\n",
        "==========================\n",
        "=== SECRET NUMBER GAME ===\n",
        "==========================\n",
        "''')\n",
        "user_input = int(input('Try to guess the secret number from 0 to 20: '))\n",
        "while user_input != secret_number:\n",
        "  print('Wrong!')\n",
        "  user_input = int(input('Try to guess the secret number from 0 to 20: '))\n",
        "print('Perfect! You have guessed the secret number.')"
      ],
      "metadata": {
        "colab": {
          "base_uri": "https://localhost:8080/"
        },
        "id": "r0mtV28lPh40",
        "outputId": "124cc4e9-a586-462a-c061-ac88c16329b4"
      },
      "execution_count": null,
      "outputs": [
        {
          "output_type": "stream",
          "name": "stdout",
          "text": [
            "\n",
            "==========================\n",
            "=== SECRET NUMBER GAME ===\n",
            "==========================\n",
            "\n",
            "Try to guess the secret number from 0 to 20: 2\n",
            "Wrong!\n",
            "Try to guess the secret number from 0 to 20: 14\n",
            "Perfect! You have guessed the secret number.\n"
          ]
        }
      ]
    },
    {
      "cell_type": "markdown",
      "source": [
        "Module3_for_loop"
      ],
      "metadata": {
        "id": "CuUzIPDFRrjv"
      }
    },
    {
      "cell_type": "code",
      "source": [
        "for letter in 'hello!':\n",
        "  print('Current letter:', letter)\n"
      ],
      "metadata": {
        "colab": {
          "base_uri": "https://localhost:8080/"
        },
        "id": "REwnaoShRiIX",
        "outputId": "f4ae0a2c-aa04-468e-f24d-ce3e148a4629"
      },
      "execution_count": null,
      "outputs": [
        {
          "output_type": "stream",
          "name": "stdout",
          "text": [
            "Current letter: h\n",
            "Current letter: e\n",
            "Current letter: l\n",
            "Current letter: l\n",
            "Current letter: o\n",
            "Current letter: !\n"
          ]
        }
      ]
    },
    {
      "cell_type": "code",
      "source": [
        "for counter in range(1,11): \n",
        "  print(counter)\n",
        "print('Finished')"
      ],
      "metadata": {
        "colab": {
          "base_uri": "https://localhost:8080/"
        },
        "id": "KB6C9NaMTPcZ",
        "outputId": "c27dcf98-bbc6-49a8-cf97-e3520c1e4786"
      },
      "execution_count": null,
      "outputs": [
        {
          "output_type": "stream",
          "name": "stdout",
          "text": [
            "1\n",
            "2\n",
            "3\n",
            "4\n",
            "5\n",
            "6\n",
            "7\n",
            "8\n",
            "9\n",
            "10\n",
            "Finished\n"
          ]
        }
      ]
    },
    {
      "cell_type": "code",
      "source": [
        "for counter in range(1,11,3): \n",
        "  print(counter)\n",
        "print('Finished')"
      ],
      "metadata": {
        "colab": {
          "base_uri": "https://localhost:8080/"
        },
        "id": "kMs5CUgFTVYU",
        "outputId": "414b6f1f-4e5a-4d14-f2cd-ba91c0b9abe9"
      },
      "execution_count": null,
      "outputs": [
        {
          "output_type": "stream",
          "name": "stdout",
          "text": [
            "1\n",
            "4\n",
            "7\n",
            "10\n",
            "Finished\n"
          ]
        }
      ]
    },
    {
      "cell_type": "markdown",
      "source": [
        "Module3_break_continue"
      ],
      "metadata": {
        "id": "q3W7clVXT6Wd"
      }
    },
    {
      "cell_type": "code",
      "source": [
        "while True:\n",
        "  name = input('Enter your name or EXIT to close the program: ')\n",
        "  if(name == 'EXIT'):\n",
        "    break\n",
        "  print('Hello', name)"
      ],
      "metadata": {
        "colab": {
          "base_uri": "https://localhost:8080/"
        },
        "id": "r_esISRMTvnE",
        "outputId": "e7b70e71-c6cf-4fa6-b1c6-5595547dc083"
      },
      "execution_count": null,
      "outputs": [
        {
          "name": "stdout",
          "output_type": "stream",
          "text": [
            "Enter your name or EXIT to close the program: EXIT\n"
          ]
        }
      ]
    },
    {
      "cell_type": "code",
      "source": [
        "for i in range(1, 21):\n",
        "  if i % 5 == 0:\n",
        "    continue\n",
        "  print(i)"
      ],
      "metadata": {
        "colab": {
          "base_uri": "https://localhost:8080/"
        },
        "id": "8nS-MynVYQOy",
        "outputId": "74c57914-d72c-427c-9dd0-eb6d660e442b"
      },
      "execution_count": null,
      "outputs": [
        {
          "output_type": "stream",
          "name": "stdout",
          "text": [
            "1\n",
            "2\n",
            "3\n",
            "4\n",
            "6\n",
            "7\n",
            "8\n",
            "9\n",
            "11\n",
            "12\n",
            "13\n",
            "14\n",
            "16\n",
            "17\n",
            "18\n",
            "19\n"
          ]
        }
      ]
    },
    {
      "cell_type": "markdown",
      "source": [
        "Module3_loops_additional"
      ],
      "metadata": {
        "id": "i6J9BptCYiw0"
      }
    },
    {
      "cell_type": "code",
      "source": [
        "for i in range(11):\n",
        "  pass"
      ],
      "metadata": {
        "id": "tF1_Ic-IZN1c"
      },
      "execution_count": null,
      "outputs": []
    },
    {
      "cell_type": "code",
      "source": [
        "for a in range(1, 6):\n",
        "  for b in range(1, 6):\n",
        "    print(a, 'x', b, '=', a * b)"
      ],
      "metadata": {
        "colab": {
          "base_uri": "https://localhost:8080/"
        },
        "id": "hQNBBbZnYXA1",
        "outputId": "47262a1c-ed61-4c69-8ecd-ca82ba28b85b"
      },
      "execution_count": null,
      "outputs": [
        {
          "output_type": "stream",
          "name": "stdout",
          "text": [
            "1 x 1 = 1\n",
            "1 x 2 = 2\n",
            "1 x 3 = 3\n",
            "1 x 4 = 4\n",
            "1 x 5 = 5\n",
            "2 x 1 = 2\n",
            "2 x 2 = 4\n",
            "2 x 3 = 6\n",
            "2 x 4 = 8\n",
            "2 x 5 = 10\n",
            "3 x 1 = 3\n",
            "3 x 2 = 6\n",
            "3 x 3 = 9\n",
            "3 x 4 = 12\n",
            "3 x 5 = 15\n",
            "4 x 1 = 4\n",
            "4 x 2 = 8\n",
            "4 x 3 = 12\n",
            "4 x 4 = 16\n",
            "4 x 5 = 20\n",
            "5 x 1 = 5\n",
            "5 x 2 = 10\n",
            "5 x 3 = 15\n",
            "5 x 4 = 20\n",
            "5 x 5 = 25\n"
          ]
        }
      ]
    },
    {
      "cell_type": "code",
      "source": [
        "i = 2\n",
        "while i < 5:\n",
        "  print(i)\n",
        "  i += 1\n",
        "else:\n",
        "  print('else:', i)"
      ],
      "metadata": {
        "colab": {
          "base_uri": "https://localhost:8080/"
        },
        "id": "vmMde0ibYuWj",
        "outputId": "32fcb68f-1811-47b3-f229-98c5cbaa240b"
      },
      "execution_count": null,
      "outputs": [
        {
          "output_type": "stream",
          "name": "stdout",
          "text": [
            "2\n",
            "3\n",
            "4\n",
            "else: 5\n"
          ]
        }
      ]
    },
    {
      "cell_type": "markdown",
      "source": [
        "Exercise:\n",
        "Python Guessing Game\n",
        "Ask the user to guess the year when Python 1.0 was released (the correct answer is 1994) with the following prompt:\n",
        "\n",
        "When was Python 1.0 released? << remember to add a space at the end of this prompt\n",
        "\n",
        "If the user answers 1994, show:\n",
        "\n",
        "Correct!\n",
        "\n",
        "and finish the program. If the user answers with a year later than 1994, show a hint and ask again for a new year on a new line:\n",
        "\n",
        "It was earlier than that!\n",
        "When was Python 1.0 released? << remember to add a space\n",
        "\n",
        "If the user answers with a year earlier than 1994, show a hint and ask again for a new year on a new line:\n",
        "\n",
        "It was later than that!\n",
        "When was Python 1.0 released? << remember to add a space"
      ],
      "metadata": {
        "id": "1q-qMp8XaPm4"
      }
    },
    {
      "cell_type": "code",
      "source": [
        "while True:\n",
        "    answer = int(input('When was Python 1.0 released? '))\n",
        "    if answer > 1994:\n",
        "        print('It was earlier than that!')\n",
        "    elif answer < 1994:\n",
        "        print('It was later than that!')\n",
        "    else:\n",
        "        print('Correct!')\n",
        "        break"
      ],
      "metadata": {
        "colab": {
          "base_uri": "https://localhost:8080/"
        },
        "id": "K2mWZyUCaS2R",
        "outputId": "c29402f0-12c4-4d8f-fda5-4747f424758e"
      },
      "execution_count": null,
      "outputs": [
        {
          "output_type": "stream",
          "name": "stdout",
          "text": [
            "When was Python 1.0 released? 2000\n",
            "It was earlier than that!\n",
            "When was Python 1.0 released? 1995\n",
            "It was earlier than that!\n",
            "When was Python 1.0 released? 1994\n",
            "Correct!\n"
          ]
        }
      ]
    },
    {
      "cell_type": "markdown",
      "source": [
        "Module4_intro_lists"
      ],
      "metadata": {
        "id": "JDLgZYkZkrpl"
      }
    },
    {
      "cell_type": "code",
      "source": [
        "# collections:\n",
        "# lists\n",
        "# tuples\n",
        "# dictionaries"
      ],
      "metadata": {
        "id": "9REIxfKikvng"
      },
      "execution_count": null,
      "outputs": []
    },
    {
      "cell_type": "code",
      "source": [
        "# Lists\n",
        "top_cities = ['new york', 'los angeles', 'chicago', 'houston', 'phoenex']\n",
        "print(top_cities)"
      ],
      "metadata": {
        "colab": {
          "base_uri": "https://localhost:8080/"
        },
        "id": "HZgPqE0XlGoe",
        "outputId": "c4925402-ede5-498c-b4e6-7340399d1ae1"
      },
      "execution_count": null,
      "outputs": [
        {
          "output_type": "stream",
          "name": "stdout",
          "text": [
            "['new york', 'los angeles', 'chicago', 'houston', 'phoenex']\n"
          ]
        }
      ]
    },
    {
      "cell_type": "code",
      "source": [
        "top_cities[0]"
      ],
      "metadata": {
        "colab": {
          "base_uri": "https://localhost:8080/",
          "height": 35
        },
        "id": "dK2KYJFAlmtP",
        "outputId": "83de1ad4-78e4-48c3-f00a-06de68e4a312"
      },
      "execution_count": null,
      "outputs": [
        {
          "output_type": "execute_result",
          "data": {
            "text/plain": [
              "'new york'"
            ],
            "application/vnd.google.colaboratory.intrinsic+json": {
              "type": "string"
            }
          },
          "metadata": {},
          "execution_count": 42
        }
      ]
    },
    {
      "cell_type": "code",
      "source": [
        "top_cities[-1]"
      ],
      "metadata": {
        "colab": {
          "base_uri": "https://localhost:8080/",
          "height": 35
        },
        "id": "PX-56Xpql3fW",
        "outputId": "f657829d-c52c-421b-98da-83188fa028c9"
      },
      "execution_count": null,
      "outputs": [
        {
          "output_type": "execute_result",
          "data": {
            "text/plain": [
              "'phoenex'"
            ],
            "application/vnd.google.colaboratory.intrinsic+json": {
              "type": "string"
            }
          },
          "metadata": {},
          "execution_count": 43
        }
      ]
    },
    {
      "cell_type": "code",
      "source": [
        "top_cities[0:2]"
      ],
      "metadata": {
        "colab": {
          "base_uri": "https://localhost:8080/"
        },
        "id": "8RHAofMImBCf",
        "outputId": "39fcc944-9353-4716-9597-23a962501747"
      },
      "execution_count": null,
      "outputs": [
        {
          "output_type": "execute_result",
          "data": {
            "text/plain": [
              "['new york', 'los angeles']"
            ]
          },
          "metadata": {},
          "execution_count": 44
        }
      ]
    },
    {
      "cell_type": "code",
      "source": [
        "top_cities = ['new york', 'los angeles', 'chicago', 'houston', 'phoenex']\n",
        "del top_cities[2:]\n",
        "print(top_cities)"
      ],
      "metadata": {
        "colab": {
          "base_uri": "https://localhost:8080/"
        },
        "id": "OXL3MVJRmQdF",
        "outputId": "9285409b-e49c-4aef-92da-ff4b9c5923ce"
      },
      "execution_count": null,
      "outputs": [
        {
          "output_type": "stream",
          "name": "stdout",
          "text": [
            "['new york', 'los angeles']\n"
          ]
        }
      ]
    },
    {
      "cell_type": "code",
      "source": [
        "top_cities = ['new york', 'los angeles', 'chicago', 'houston', 'phoenex']\n",
        "top_cities.append ('Rio de Janeiro')\n",
        "print(top_cities)"
      ],
      "metadata": {
        "colab": {
          "base_uri": "https://localhost:8080/"
        },
        "id": "DZv7AgDLm790",
        "outputId": "22dc35ad-f445-4c21-9e87-ba06bbd818a8"
      },
      "execution_count": null,
      "outputs": [
        {
          "output_type": "stream",
          "name": "stdout",
          "text": [
            "['new york', 'los angeles', 'chicago', 'houston', 'phoenex', 'Rio de Janeiro']\n"
          ]
        }
      ]
    },
    {
      "cell_type": "code",
      "source": [
        "top_cities = ['new york', 'los angeles', 'chicago', 'houston', 'phoenex']\n",
        "top_cities.insert (2, 'São Paulo')\n",
        "print(top_cities)"
      ],
      "metadata": {
        "colab": {
          "base_uri": "https://localhost:8080/"
        },
        "id": "kiqSXWq5oKPu",
        "outputId": "334ee3eb-d05c-40dc-aea8-6cfcc4bce375"
      },
      "execution_count": null,
      "outputs": [
        {
          "output_type": "stream",
          "name": "stdout",
          "text": [
            "['new york', 'los angeles', 'São Paulo', 'chicago', 'houston', 'phoenex']\n"
          ]
        }
      ]
    },
    {
      "cell_type": "markdown",
      "source": [
        "Module4_interating_lists"
      ],
      "metadata": {
        "id": "kkpKAUUoo59w"
      }
    },
    {
      "cell_type": "code",
      "source": [
        "top_cities = ['new york', 'los angeles', 'chicago', 'houston', 'phoenex']\n",
        "for city_index in range(len(top_cities)):\n",
        "  print('Current index:', city_index,'| Current city:', top_cities[city_index],)"
      ],
      "metadata": {
        "colab": {
          "base_uri": "https://localhost:8080/"
        },
        "id": "7r-uvH6Hosfc",
        "outputId": "8749e0e1-3ce1-47a8-9548-7b6a707c239a"
      },
      "execution_count": null,
      "outputs": [
        {
          "output_type": "stream",
          "name": "stdout",
          "text": [
            "Current index: 0 | Current city: new york\n",
            "Current index: 1 | Current city: los angeles\n",
            "Current index: 2 | Current city: chicago\n",
            "Current index: 3 | Current city: houston\n",
            "Current index: 4 | Current city: phoenex\n"
          ]
        }
      ]
    },
    {
      "cell_type": "code",
      "source": [
        "spendings = [32.45, 18.65, 23.45, 78.32, 5.23]\n",
        "sum = 0.0\n",
        "for spending in spendings:\n",
        "  sum += spending\n",
        "print('Money spent:', sum)"
      ],
      "metadata": {
        "colab": {
          "base_uri": "https://localhost:8080/"
        },
        "id": "9-QNkCgtpykB",
        "outputId": "238d52bb-f10a-4b5f-936f-884abde01fd5"
      },
      "execution_count": null,
      "outputs": [
        {
          "output_type": "stream",
          "name": "stdout",
          "text": [
            "Money spent: 158.1\n"
          ]
        }
      ]
    },
    {
      "cell_type": "markdown",
      "source": [
        "Exercise:\n",
        "Helping with the Budget\n",
        "John has a hard time keeping his budget. Write a program to help him analyse his spendings. You are given a list with John's spendings for each month. Go through the list, and count the number of times...\n",
        "\n",
        "a. the spendings were low (< 1000.0)\n",
        "b. the spendings were normal (between 1000.0 and 2500.0 inclusive)\n",
        "c. the spendings were high (> 2500.0)\n",
        "\n",
        "Then, print the following to the output:\n",
        "\n",
        "Numbers of months with low spendings: {}, normal spendings: {}, high spendings: {}."
      ],
      "metadata": {
        "id": "MOHZjlZxqgxL"
      }
    },
    {
      "cell_type": "code",
      "source": [
        "spendings = [1346.0, 987.50, 1734.40, 2567.0, 3271.45, 2500.0, 2130.0, 2510.30, 2987.34, 3120.50, 4069.78, 1000.0]\n",
        " \n",
        "low = 0\n",
        "normal = 0\n",
        "high = 0\n",
        " \n",
        "for month in spendings:\n",
        "    if month < 1000.0:\n",
        "        low += 1\n",
        "    elif month <= 2500.0:\n",
        "        normal += 1\n",
        "    else:\n",
        "        high += 1\n",
        " \n",
        "print('Numbers of months with low spendings: ' + str(low) + ', normal spendings: ' + str(normal) + ', high spendings: ' + str(high) + '.')\n"
      ],
      "metadata": {
        "colab": {
          "base_uri": "https://localhost:8080/"
        },
        "id": "XqFCtSKYqaP-",
        "outputId": "2c6fc88a-acad-400d-a0d0-3070cb25803f"
      },
      "execution_count": null,
      "outputs": [
        {
          "output_type": "stream",
          "name": "stdout",
          "text": [
            "Numbers of months with low spendings: 1, normal spendings: 5, high spendings: 6.\n"
          ]
        }
      ]
    },
    {
      "cell_type": "markdown",
      "source": [
        "Module4_list_change_positions"
      ],
      "metadata": {
        "id": "0hl8IsKAFBDM"
      }
    },
    {
      "cell_type": "code",
      "source": [
        "first = input('Enter first number: ')\n",
        "second = input('Enter second number: ')\n",
        "print('Before swapping: ', first, second)\n",
        "first, second = second, first\n",
        "print('After swapping: ', first, second)"
      ],
      "metadata": {
        "colab": {
          "base_uri": "https://localhost:8080/"
        },
        "id": "K_SKPCaIq_20",
        "outputId": "72a46c8b-9b1d-44d6-844f-77f0c29fe79d"
      },
      "execution_count": null,
      "outputs": [
        {
          "output_type": "stream",
          "name": "stdout",
          "text": [
            "Enter first number: 25\n",
            "Enter second number: 2\n",
            "Before swapping:  25 2\n",
            "After swapping:  2 25\n"
          ]
        }
      ]
    },
    {
      "cell_type": "code",
      "source": [
        "top_cities = ['New York', 'Los Angeles', 'Chicago', 'Houston', 'Phoenix']\n",
        "top_cities[0], top_cities[4] = top_cities[4], top_cities[0]\n",
        "print(top_cities)"
      ],
      "metadata": {
        "colab": {
          "base_uri": "https://localhost:8080/"
        },
        "id": "S_xEmHaFF9Qq",
        "outputId": "fe380b9d-fa91-408b-c1e2-441efd3079cc"
      },
      "execution_count": null,
      "outputs": [
        {
          "output_type": "stream",
          "name": "stdout",
          "text": [
            "['Phoenix', 'Los Angeles', 'Chicago', 'Houston', 'New York']\n"
          ]
        }
      ]
    },
    {
      "cell_type": "code",
      "source": [
        "top_cities = ['New York', 'Los Angeles', 'Chicago', 'Houston', 'Phoenix']\n",
        "top_cities.sort()\n",
        "print(top_cities)"
      ],
      "metadata": {
        "colab": {
          "base_uri": "https://localhost:8080/"
        },
        "id": "q9xlAlcgGkMy",
        "outputId": "f28df957-e5d2-430e-fa62-b6da398dcd27"
      },
      "execution_count": null,
      "outputs": [
        {
          "output_type": "stream",
          "name": "stdout",
          "text": [
            "['Chicago', 'Houston', 'Los Angeles', 'New York', 'Phoenix']\n"
          ]
        }
      ]
    },
    {
      "cell_type": "code",
      "source": [
        "random_numbers = [2, 5, 0, -3, 4]\n",
        "random_numbers.sort(reverse=True)\n",
        "print(random_numbers)"
      ],
      "metadata": {
        "colab": {
          "base_uri": "https://localhost:8080/"
        },
        "id": "aj7gFDHxG1bR",
        "outputId": "8ea8d423-4e9f-46ac-9ee5-16501caecbdc"
      },
      "execution_count": null,
      "outputs": [
        {
          "output_type": "stream",
          "name": "stdout",
          "text": [
            "[5, 4, 2, 0, -3]\n"
          ]
        }
      ]
    },
    {
      "cell_type": "code",
      "source": [
        "top_cities = ['New York', 'Los Angeles', 'Chicago', 'Houston', 'Phoenix']\n",
        "print(sorted(top_cities))\n",
        "print(top_cities)"
      ],
      "metadata": {
        "colab": {
          "base_uri": "https://localhost:8080/"
        },
        "id": "VUIMAzjcHMQY",
        "outputId": "09c6bec4-c481-4f89-8d7a-a5ab0f77cb51"
      },
      "execution_count": null,
      "outputs": [
        {
          "output_type": "stream",
          "name": "stdout",
          "text": [
            "['Chicago', 'Houston', 'Los Angeles', 'New York', 'Phoenix']\n",
            "['New York', 'Los Angeles', 'Chicago', 'Houston', 'Phoenix']\n"
          ]
        }
      ]
    },
    {
      "cell_type": "markdown",
      "source": [
        "Module4_list_checking_presence"
      ],
      "metadata": {
        "id": "muXsGRwZIMa-"
      }
    },
    {
      "cell_type": "code",
      "source": [
        "invited_guests = ['Kate', 'Adam', 'Kerry', 'Joe', 'Anne', 'Marie']\n",
        "name = input('What is your name? ')\n",
        "if name in invited_guests:\n",
        "  print('Welcome')\n",
        "else:\n",
        "  print('You are not invited.')"
      ],
      "metadata": {
        "colab": {
          "base_uri": "https://localhost:8080/"
        },
        "id": "gJEHgMYBHs6-",
        "outputId": "cb5647c1-05ec-4b6b-fdee-1aa818344ebd"
      },
      "execution_count": null,
      "outputs": [
        {
          "output_type": "stream",
          "name": "stdout",
          "text": [
            "What is your name? Kate\n",
            "Welcome\n"
          ]
        }
      ]
    },
    {
      "cell_type": "code",
      "source": [
        "invited_guests = ['Kate', 'Adam', 'Kerry', 'Joe', 'Anne', 'Marie']\n",
        "name = input ('What is your name? ')\n",
        "if name not in invited_guests:\n",
        "  print('You are not invited!')\n",
        "else:\n",
        "  print('Welcome!')"
      ],
      "metadata": {
        "colab": {
          "base_uri": "https://localhost:8080/"
        },
        "id": "V5n19FMrJ-ij",
        "outputId": "42f3ebc9-25a7-4fe1-9be3-af4c464c299b"
      },
      "execution_count": null,
      "outputs": [
        {
          "output_type": "stream",
          "name": "stdout",
          "text": [
            "What is your name? Leonardo\n",
            "You are not invited!\n"
          ]
        }
      ]
    },
    {
      "cell_type": "markdown",
      "source": [
        "Module4_copying_lists"
      ],
      "metadata": {
        "id": "E4M2s383Kshd"
      }
    },
    {
      "cell_type": "code",
      "source": [
        "name_original = 'John Snow'\n",
        "name_new = name_original\n",
        "name_original = 'Daenerys Targaryen'\n",
        "print(name_original,name_new)"
      ],
      "metadata": {
        "colab": {
          "base_uri": "https://localhost:8080/"
        },
        "id": "FXW9JEzrKhL8",
        "outputId": "5096bb35-4ebf-4133-bc34-a4e9f0773ba5"
      },
      "execution_count": null,
      "outputs": [
        {
          "output_type": "stream",
          "name": "stdout",
          "text": [
            "Daenerys Targaryen John Snow\n"
          ]
        }
      ]
    },
    {
      "cell_type": "code",
      "source": [
        "list_original = [1, 2, 3]\n",
        "list_new = list_original \n",
        "list_original[0] = -5\n",
        "print('Original:', list_original, '\\nNew:', list_new)"
      ],
      "metadata": {
        "colab": {
          "base_uri": "https://localhost:8080/"
        },
        "id": "XmQilEjcLF46",
        "outputId": "abd5278e-7879-4d10-f464-346c45fa6836"
      },
      "execution_count": null,
      "outputs": [
        {
          "output_type": "stream",
          "name": "stdout",
          "text": [
            "Original: [-5, 2, 3] \n",
            "New: [-5, 2, 3]\n"
          ]
        }
      ]
    },
    {
      "cell_type": "code",
      "source": [
        "list_original = [1, 2, 3]\n",
        "list_new = list_original[:] \n",
        "list_original[0] = -5\n",
        "print('Original:', list_original, '\\nNew:', list_new)"
      ],
      "metadata": {
        "colab": {
          "base_uri": "https://localhost:8080/"
        },
        "id": "JXBm9yuUNfQC",
        "outputId": "b01b7e4e-eb35-481e-e4ac-33350ffb2016"
      },
      "execution_count": null,
      "outputs": [
        {
          "output_type": "stream",
          "name": "stdout",
          "text": [
            "Original: [-5, 2, 3] \n",
            "New: [1, 2, 3]\n"
          ]
        }
      ]
    },
    {
      "cell_type": "code",
      "source": [
        "list_original = [1, 2, 3]\n",
        "list_new = list_original[:2] \n",
        "list_original[0] = -5\n",
        "print('Original:', list_original, '\\nNew:', list_new)"
      ],
      "metadata": {
        "colab": {
          "base_uri": "https://localhost:8080/"
        },
        "id": "QazFUsIyOkNx",
        "outputId": "f869acf8-198f-4e7c-c918-5f22d447a0c4"
      },
      "execution_count": null,
      "outputs": [
        {
          "output_type": "stream",
          "name": "stdout",
          "text": [
            "Original: [-5, 2, 3] \n",
            "New: [1, 2]\n"
          ]
        }
      ]
    },
    {
      "cell_type": "markdown",
      "source": [
        "Module4_list_comprehensions"
      ],
      "metadata": {
        "id": "G-huOtX3O5-M"
      }
    },
    {
      "cell_type": "code",
      "source": [
        "numbers = [1, 2, 3, 4]"
      ],
      "metadata": {
        "id": "Y51Q1J80OllW"
      },
      "execution_count": null,
      "outputs": []
    },
    {
      "cell_type": "code",
      "source": [
        "numbers = []\n",
        "for i in range(1, 21):\n",
        "  numbers.append(i)\n",
        "print(numbers)"
      ],
      "metadata": {
        "colab": {
          "base_uri": "https://localhost:8080/"
        },
        "id": "Dh0VpkycPb_n",
        "outputId": "58522359-70f0-4ea8-cf00-0d36dc2fdadc"
      },
      "execution_count": null,
      "outputs": [
        {
          "output_type": "stream",
          "name": "stdout",
          "text": [
            "[1, 2, 3, 4, 5, 6, 7, 8, 9, 10, 11, 12, 13, 14, 15, 16, 17, 18, 19, 20]\n"
          ]
        }
      ]
    },
    {
      "cell_type": "code",
      "source": [
        "numbers = [i for i in range(1, 21)]\n",
        "print(numbers)"
      ],
      "metadata": {
        "colab": {
          "base_uri": "https://localhost:8080/"
        },
        "id": "-ktppAzZPmMz",
        "outputId": "1d4f4bc6-fcb6-4bd1-b6b1-ba666940c233"
      },
      "execution_count": null,
      "outputs": [
        {
          "output_type": "stream",
          "name": "stdout",
          "text": [
            "[1, 2, 3, 4, 5, 6, 7, 8, 9, 10, 11, 12, 13, 14, 15, 16, 17, 18, 19, 20]\n"
          ]
        }
      ]
    },
    {
      "cell_type": "code",
      "source": [
        "numbers = [i for i in range(1, 21) if i % 3 != 0]\n",
        "print(numbers)"
      ],
      "metadata": {
        "colab": {
          "base_uri": "https://localhost:8080/"
        },
        "id": "f8mQPmImTJCG",
        "outputId": "d49b18d6-5e6b-4dc5-f10b-ca357586b22b"
      },
      "execution_count": null,
      "outputs": [
        {
          "output_type": "stream",
          "name": "stdout",
          "text": [
            "[1, 2, 4, 5, 7, 8, 10, 11, 13, 14, 16, 17, 19, 20]\n"
          ]
        }
      ]
    },
    {
      "cell_type": "markdown",
      "source": [
        "Module4_nested_lists"
      ],
      "metadata": {
        "id": "yETbUVLDVIla"
      }
    },
    {
      "cell_type": "code",
      "source": [
        "cells = [['A1', 'A2', 'A3'],['B1', 'B2', 'B3']]"
      ],
      "metadata": {
        "id": "1opwzR78VLdJ"
      },
      "execution_count": null,
      "outputs": []
    },
    {
      "cell_type": "code",
      "source": [
        "cells[0]"
      ],
      "metadata": {
        "colab": {
          "base_uri": "https://localhost:8080/"
        },
        "id": "dID4XYpZVV8q",
        "outputId": "e71426ff-d0f9-45d3-92fb-1a0ae85eac19"
      },
      "execution_count": null,
      "outputs": [
        {
          "output_type": "execute_result",
          "data": {
            "text/plain": [
              "['A1', 'A2', 'A3']"
            ]
          },
          "metadata": {},
          "execution_count": 36
        }
      ]
    },
    {
      "cell_type": "code",
      "source": [
        "cells[0][1]"
      ],
      "metadata": {
        "colab": {
          "base_uri": "https://localhost:8080/",
          "height": 35
        },
        "id": "qzqD-ahJVbeM",
        "outputId": "b0525183-eca5-4142-e7af-ece7a002296b"
      },
      "execution_count": null,
      "outputs": [
        {
          "output_type": "execute_result",
          "data": {
            "text/plain": [
              "'A2'"
            ],
            "application/vnd.google.colaboratory.intrinsic+json": {
              "type": "string"
            }
          },
          "metadata": {},
          "execution_count": 38
        }
      ]
    },
    {
      "cell_type": "code",
      "source": [
        "cells = [['A1', 'A2', 'A3'],['B1', 'B2', 'B3']]\n",
        "for x in cells:\n",
        "  print('Element: ', x)"
      ],
      "metadata": {
        "colab": {
          "base_uri": "https://localhost:8080/"
        },
        "id": "iZSpz8OzWBU0",
        "outputId": "fc5aed3b-59ec-4db5-8fc5-2db99fa29300"
      },
      "execution_count": null,
      "outputs": [
        {
          "output_type": "stream",
          "name": "stdout",
          "text": [
            "Element:  ['A1', 'A2', 'A3']\n",
            "Element:  ['B1', 'B2', 'B3']\n"
          ]
        }
      ]
    },
    {
      "cell_type": "code",
      "source": [
        "cells = [['A1', 'A2', 'A3'],['B1', 'B2', 'B3']]\n",
        "for x in cells:\n",
        "  for y in x:\n",
        "    print('Element: ', y)"
      ],
      "metadata": {
        "colab": {
          "base_uri": "https://localhost:8080/"
        },
        "id": "cFr2t5TJWUBz",
        "outputId": "495a5419-0c8c-4309-8da8-020f8278c9a0"
      },
      "execution_count": null,
      "outputs": [
        {
          "output_type": "stream",
          "name": "stdout",
          "text": [
            "Element:  A1\n",
            "Element:  A2\n",
            "Element:  A3\n",
            "Element:  B1\n",
            "Element:  B2\n",
            "Element:  B3\n"
          ]
        }
      ]
    },
    {
      "cell_type": "code",
      "source": [
        "table = [['A1', 'A2', 'A3'],['B1', 'B2', 'B3']]\n",
        "for row in table:\n",
        "  for cell in row:\n",
        "    print('Element: ', cell)"
      ],
      "metadata": {
        "colab": {
          "base_uri": "https://localhost:8080/"
        },
        "id": "gfGEqiANW9Kx",
        "outputId": "7ef159b7-d32b-4c16-abfd-b99f64fa0e25"
      },
      "execution_count": null,
      "outputs": [
        {
          "output_type": "stream",
          "name": "stdout",
          "text": [
            "Element:  A1\n",
            "Element:  A2\n",
            "Element:  A3\n",
            "Element:  B1\n",
            "Element:  B2\n",
            "Element:  B3\n"
          ]
        }
      ]
    },
    {
      "cell_type": "code",
      "source": [
        "table = [['A1', 'A2', 'A3'],['B1', 'B2', 'B3']]\n",
        "for row in table:\n",
        "  for cell in row:\n",
        "    print(cell,'', end='')\n",
        "  print()"
      ],
      "metadata": {
        "colab": {
          "base_uri": "https://localhost:8080/"
        },
        "id": "2e9gnFTJXY1v",
        "outputId": "bdc9415c-3cfb-454b-ab78-5e026c8e1b55"
      },
      "execution_count": null,
      "outputs": [
        {
          "output_type": "stream",
          "name": "stdout",
          "text": [
            "A1 A2 A3 \n",
            "B1 B2 B3 \n"
          ]
        }
      ]
    },
    {
      "cell_type": "code",
      "source": [
        "table = [[i for i in range(1, 6)] for j in range(4)]\n",
        "print(table)"
      ],
      "metadata": {
        "colab": {
          "base_uri": "https://localhost:8080/"
        },
        "id": "oPwQU_0jXus-",
        "outputId": "1ea58fd9-3022-4de5-bfd7-19c547a245e6"
      },
      "execution_count": null,
      "outputs": [
        {
          "output_type": "stream",
          "name": "stdout",
          "text": [
            "[[1, 2, 3, 4, 5], [1, 2, 3, 4, 5], [1, 2, 3, 4, 5], [1, 2, 3, 4, 5]]\n"
          ]
        }
      ]
    },
    {
      "cell_type": "markdown",
      "source": [
        "Module4_add_multiply_lists"
      ],
      "metadata": {
        "id": "XIo7MVcEY0di"
      }
    },
    {
      "cell_type": "code",
      "source": [
        "list_us = ['New York City', 'Chicago']\n",
        "list_uk = ['London', 'Bristol']\n",
        "list_all = list_us + list_uk\n",
        "print(list_all)"
      ],
      "metadata": {
        "colab": {
          "base_uri": "https://localhost:8080/"
        },
        "id": "9l42brSbYfUz",
        "outputId": "4dfd2bb2-64f7-4170-faed-ab8548f109ba"
      },
      "execution_count": null,
      "outputs": [
        {
          "output_type": "stream",
          "name": "stdout",
          "text": [
            "['New York City', 'Chicago', 'London', 'Bristol']\n"
          ]
        }
      ]
    },
    {
      "cell_type": "code",
      "source": [
        "list_numbers = [0, 1] * 5\n",
        "print(list_numbers)"
      ],
      "metadata": {
        "colab": {
          "base_uri": "https://localhost:8080/"
        },
        "id": "xT5d5DUBaZzk",
        "outputId": "c2ad2d8c-e69f-4c47-b0ce-249a7423079a"
      },
      "execution_count": null,
      "outputs": [
        {
          "output_type": "stream",
          "name": "stdout",
          "text": [
            "[0, 1, 0, 1, 0, 1, 0, 1, 0, 1]\n"
          ]
        }
      ]
    },
    {
      "cell_type": "markdown",
      "source": [
        "Module4_further_string_features"
      ],
      "metadata": {
        "id": "vcl-rQsDf6m7"
      }
    },
    {
      "cell_type": "code",
      "source": [
        "fav_band = 'Green Day'\n",
        "print(fav_band[6])"
      ],
      "metadata": {
        "colab": {
          "base_uri": "https://localhost:8080/"
        },
        "id": "zSeHw7zYajmM",
        "outputId": "eeac2cf5-00db-4a06-b783-3153c29b46a1"
      },
      "execution_count": null,
      "outputs": [
        {
          "output_type": "stream",
          "name": "stdout",
          "text": [
            "D\n"
          ]
        }
      ]
    },
    {
      "cell_type": "code",
      "source": [
        "print(fav_band[:6])"
      ],
      "metadata": {
        "colab": {
          "base_uri": "https://localhost:8080/"
        },
        "id": "QoPUCbofgEyJ",
        "outputId": "7d787ff3-2979-45e7-c868-e1918852920e"
      },
      "execution_count": null,
      "outputs": [
        {
          "output_type": "stream",
          "name": "stdout",
          "text": [
            "Green \n"
          ]
        }
      ]
    },
    {
      "cell_type": "code",
      "source": [
        "text = 'please capitlise me'\n",
        "text_cap = text.upper()\n",
        "print(text_cap)"
      ],
      "metadata": {
        "colab": {
          "base_uri": "https://localhost:8080/"
        },
        "id": "Yn_xRjO6gRqi",
        "outputId": "a9875120-f4cc-4929-c747-abac1029a1ee"
      },
      "execution_count": null,
      "outputs": [
        {
          "output_type": "stream",
          "name": "stdout",
          "text": [
            "PLEASE CAPITLISE ME\n"
          ]
        }
      ]
    },
    {
      "cell_type": "code",
      "source": [
        "user_number = input('Please provide a number: ')\n",
        "if user_number.isnumeric():\n",
        "  print('Thank you, that\\'s a correct number!')\n",
        "else:\n",
        "  print('Sorry,', user_number, 'is not a number')"
      ],
      "metadata": {
        "colab": {
          "base_uri": "https://localhost:8080/"
        },
        "id": "o7YDpHbhgopn",
        "outputId": "160163f6-6ea8-4338-a401-0c9009110fe9"
      },
      "execution_count": null,
      "outputs": [
        {
          "output_type": "stream",
          "name": "stdout",
          "text": [
            "Please provide a number: 23\n",
            "Thank you, that's a correct number!\n"
          ]
        }
      ]
    },
    {
      "cell_type": "markdown",
      "source": [
        "Module4_intro_tuples"
      ],
      "metadata": {
        "id": "gtUBkRrXhRjA"
      }
    },
    {
      "cell_type": "code",
      "source": [
        "empty_tuple = ()\n",
        "one_el_tuple_a = (1, )\n",
        "one_el_tuple_b = 1,\n",
        "three_el_tuple = 1, 2, 3\n",
        "print(three_el_tuple)"
      ],
      "metadata": {
        "colab": {
          "base_uri": "https://localhost:8080/"
        },
        "id": "aqf-jN_ihEIW",
        "outputId": "c28f958b-3776-4330-9987-f2726a058257"
      },
      "execution_count": null,
      "outputs": [
        {
          "output_type": "stream",
          "name": "stdout",
          "text": [
            "(1, 2, 3)\n"
          ]
        }
      ]
    },
    {
      "cell_type": "code",
      "source": [
        "message = 'welcome'"
      ],
      "metadata": {
        "id": "wL4_uoYlhlD0"
      },
      "execution_count": null,
      "outputs": []
    },
    {
      "cell_type": "code",
      "source": [
        "message = 'Welcome'"
      ],
      "metadata": {
        "id": "rP4HT6neibw5"
      },
      "execution_count": null,
      "outputs": []
    },
    {
      "cell_type": "code",
      "source": [
        "message[0] = 'w' # tuples are imutables"
      ],
      "metadata": {
        "colab": {
          "base_uri": "https://localhost:8080/",
          "height": 165
        },
        "id": "mbv0StEuiddJ",
        "outputId": "53af8afd-9354-4c40-acae-e12ceb7b6a52"
      },
      "execution_count": null,
      "outputs": [
        {
          "output_type": "error",
          "ename": "TypeError",
          "evalue": "ignored",
          "traceback": [
            "\u001b[0;31m---------------------------------------------------------------------------\u001b[0m",
            "\u001b[0;31mTypeError\u001b[0m                                 Traceback (most recent call last)",
            "\u001b[0;32m<ipython-input-62-8686ac882220>\u001b[0m in \u001b[0;36m<cell line: 1>\u001b[0;34m()\u001b[0m\n\u001b[0;32m----> 1\u001b[0;31m \u001b[0mmessage\u001b[0m\u001b[0;34m[\u001b[0m\u001b[0;36m0\u001b[0m\u001b[0;34m]\u001b[0m \u001b[0;34m=\u001b[0m \u001b[0;34m'w'\u001b[0m\u001b[0;34m\u001b[0m\u001b[0;34m\u001b[0m\u001b[0m\n\u001b[0m",
            "\u001b[0;31mTypeError\u001b[0m: 'str' object does not support item assignment"
          ]
        }
      ]
    },
    {
      "cell_type": "code",
      "source": [
        "user_data = ('John', 'American', 1964)\n",
        "print(len(user_data))"
      ],
      "metadata": {
        "colab": {
          "base_uri": "https://localhost:8080/"
        },
        "id": "qbhCRT5AihBp",
        "outputId": "aa27b8cb-0d87-46fa-e60e-04362a0d66f4"
      },
      "execution_count": null,
      "outputs": [
        {
          "output_type": "stream",
          "name": "stdout",
          "text": [
            "3\n"
          ]
        }
      ]
    },
    {
      "cell_type": "code",
      "source": [
        "user_data = ('John', 'American', 1964)\n",
        "if 'American' in user_data:\n",
        "  print('This person comes from the US!')"
      ],
      "metadata": {
        "colab": {
          "base_uri": "https://localhost:8080/"
        },
        "id": "F-0K8zlZi1GY",
        "outputId": "3aced74c-c7b2-4287-d2ed-01e4d9c0d53a"
      },
      "execution_count": null,
      "outputs": [
        {
          "output_type": "stream",
          "name": "stdout",
          "text": [
            "This person comes from the US!\n"
          ]
        }
      ]
    },
    {
      "cell_type": "code",
      "source": [
        "user_data = ('John', 'American', 1964)\n",
        "for element in user_data:\n",
        "  print(element)"
      ],
      "metadata": {
        "colab": {
          "base_uri": "https://localhost:8080/"
        },
        "id": "RzEajUUbjFJ2",
        "outputId": "3b37a307-aa8c-47fb-a4b4-be02c844223f"
      },
      "execution_count": null,
      "outputs": [
        {
          "output_type": "stream",
          "name": "stdout",
          "text": [
            "John\n",
            "American\n",
            "1964\n"
          ]
        }
      ]
    },
    {
      "cell_type": "code",
      "source": [
        "user_data = ('John', 'American', 1964) + ('teacher', 'male')\n",
        "print(user_data)"
      ],
      "metadata": {
        "colab": {
          "base_uri": "https://localhost:8080/"
        },
        "id": "wYustDh_jNoq",
        "outputId": "cf8c3c3c-8299-4c3c-ef77-ea64c50e7165"
      },
      "execution_count": null,
      "outputs": [
        {
          "output_type": "stream",
          "name": "stdout",
          "text": [
            "('John', 'American', 1964, 'teacher', 'male')\n"
          ]
        }
      ]
    },
    {
      "cell_type": "code",
      "source": [
        "number = (0, 1) * 10\n",
        "print(number)"
      ],
      "metadata": {
        "colab": {
          "base_uri": "https://localhost:8080/"
        },
        "id": "teQc5rhLj1Ss",
        "outputId": "5ab99e6c-0b9b-4873-d41b-e01abf285dbf"
      },
      "execution_count": null,
      "outputs": [
        {
          "output_type": "stream",
          "name": "stdout",
          "text": [
            "(0, 1, 0, 1, 0, 1, 0, 1, 0, 1, 0, 1, 0, 1, 0, 1, 0, 1, 0, 1)\n"
          ]
        }
      ]
    },
    {
      "cell_type": "code",
      "source": [
        "male_name = ['Adam', 'Jerry', 'Mark'] # a list is the better option\n",
        "berlin_temps = [13.0, 17.5, 12.0] # a list is the better option\n",
        "user_data = ('John', 'American', 1964) # a tuple is the better option"
      ],
      "metadata": {
        "id": "rdNZAzf8kAY7"
      },
      "execution_count": null,
      "outputs": []
    },
    {
      "cell_type": "markdown",
      "source": [
        "Module4_tuples_lists"
      ],
      "metadata": {
        "id": "RjrhUZUulFoD"
      }
    },
    {
      "cell_type": "code",
      "source": [
        "city_1 = ('London', 'UK', 8.98)"
      ],
      "metadata": {
        "id": "DF3pVJsyk9x4"
      },
      "execution_count": null,
      "outputs": []
    },
    {
      "cell_type": "code",
      "source": [
        "city_2 = ('Canberra', 'Australia', 0.4)"
      ],
      "metadata": {
        "id": "3OBG5x5jlQt3"
      },
      "execution_count": null,
      "outputs": []
    },
    {
      "cell_type": "code",
      "source": [
        "city_3 = ('Algiers', 'Algeria', 3.9)"
      ],
      "metadata": {
        "id": "TnHw4keflV4O"
      },
      "execution_count": null,
      "outputs": []
    },
    {
      "cell_type": "code",
      "source": [
        "capitals = [('London', 'UK', 8.98),('Canberra', 'Australia', 0.4),('Algiers', 'Algeria', 3.9)]"
      ],
      "metadata": {
        "id": "qerOY_KllhFN"
      },
      "execution_count": null,
      "outputs": []
    },
    {
      "cell_type": "code",
      "source": [
        "for capital in capitals:\n",
        "  print('Name', capital[0], ', Country:', capital[1], ', Population:', capital[2])"
      ],
      "metadata": {
        "colab": {
          "base_uri": "https://localhost:8080/"
        },
        "id": "s1bcnOtZlvre",
        "outputId": "f93a07ea-bb3c-42a1-d3ad-bb2f75a6b47b"
      },
      "execution_count": null,
      "outputs": [
        {
          "output_type": "stream",
          "name": "stdout",
          "text": [
            "Name London , Country: UK , Population: 8.98\n",
            "Name Canberra , Country: Australia , Population: 0.4\n",
            "Name Algiers , Country: Algeria , Population: 3.9\n"
          ]
        }
      ]
    },
    {
      "cell_type": "code",
      "source": [
        "user_data = ('John', 'American', 1964, [77.0, 78.2, 77.5])"
      ],
      "metadata": {
        "id": "olO8wMHGnO8B"
      },
      "execution_count": null,
      "outputs": []
    },
    {
      "cell_type": "code",
      "source": [
        "user_data[3].append(79.6)"
      ],
      "metadata": {
        "id": "TH7K1jfZnOvu"
      },
      "execution_count": null,
      "outputs": []
    },
    {
      "cell_type": "code",
      "source": [
        "print(user_data)"
      ],
      "metadata": {
        "colab": {
          "base_uri": "https://localhost:8080/"
        },
        "id": "9Nqw02mAnjOo",
        "outputId": "90b87b0e-7c6c-4a8e-e4cc-dcd7cf07284f"
      },
      "execution_count": null,
      "outputs": [
        {
          "output_type": "stream",
          "name": "stdout",
          "text": [
            "('John', 'American', 1964, [77.0, 78.2, 77.5, 79.6])\n"
          ]
        }
      ]
    },
    {
      "cell_type": "markdown",
      "source": [
        "Exercise:\n",
        "All Roads Lead to Rome\n",
        "You are given a list with various flight connections in Europe. Each connection is represented as a tuple with the following elements:\n",
        "\n",
        "(city_from, city_to, time)\n",
        "\n",
        "For example, the following tuple represents a flight from Amsterdam to Dublin which takes 100 minutes:\n",
        "\n",
        "('Amsterdam', 'Dublin', 100)\n",
        "\n",
        "Your task is to go through all the routes in a loop and check how many of them lead to Rome (i.e. how many of them have city_to equal to 'Rome'). Among the routes to Rome, you should also calculate the average flight time. Print the following the output:\n",
        "\n",
        "{} connections lead to Rome with an average flight time of {} minutes\n",
        "\n",
        "Replace {} with the number of connections and the average flight time.*"
      ],
      "metadata": {
        "id": "kImqvpuent53"
      }
    },
    {
      "cell_type": "code",
      "source": [
        "connections = [('Amsterdam', 'Dublin', 100),('Amsterdam', 'Rome', 140),('Rome', 'Warsaw', 130),('Minsk', 'Prague', 95),('Stockholm', 'Rome', 190),('Copenhagen', 'Paris', 120),('Madrid', 'Rome', 135),\n",
        "    ('Lisbon', 'Rome', 170),('Dublin', 'Rome', 170),]\n",
        "\n",
        "counter = 0\n",
        "sum = 0.0\n",
        " \n",
        "for con in connections:\n",
        "    if con[1] == 'Rome':\n",
        "        counter += 1\n",
        "        sum += con[2]\n",
        " \n",
        "print(counter, 'connections lead to Rome with an average flight time of', sum/counter, 'minutes')"
      ],
      "metadata": {
        "colab": {
          "base_uri": "https://localhost:8080/"
        },
        "id": "GXi7Y7rbnlMH",
        "outputId": "08dabd07-6af6-474d-8612-ae54b159b4ad"
      },
      "execution_count": null,
      "outputs": [
        {
          "output_type": "stream",
          "name": "stdout",
          "text": [
            "5 connections lead to Rome with an average flight time of 161.0 minutes\n"
          ]
        }
      ]
    },
    {
      "cell_type": "markdown",
      "source": [
        "Module4_intro_dict"
      ],
      "metadata": {
        "id": "y6vyTx-TpCmN"
      }
    },
    {
      "cell_type": "code",
      "source": [
        "emails = {\n",
        "    'Anne Stahl':'astah1@gmail.com',\n",
        "    'Peter Small': 'peters@yandex.com',\n",
        "    'Mark Steel': 'mark@steel.com'\n",
        "}\n",
        "print(emails['Mark Steel'])"
      ],
      "metadata": {
        "colab": {
          "base_uri": "https://localhost:8080/"
        },
        "id": "8NjQRH_ans5i",
        "outputId": "7efe80c6-5a4a-418f-d092-7f4f0cae4df9"
      },
      "execution_count": null,
      "outputs": [
        {
          "output_type": "stream",
          "name": "stdout",
          "text": [
            "mark@steel.com\n"
          ]
        }
      ]
    },
    {
      "cell_type": "code",
      "source": [
        "print(emails['astah1@gmail.com'])"
      ],
      "metadata": {
        "colab": {
          "base_uri": "https://localhost:8080/",
          "height": 165
        },
        "id": "Dg58DEWop-RO",
        "outputId": "e818ba5a-342f-45de-e28b-7ad9bb6f60dc"
      },
      "execution_count": null,
      "outputs": [
        {
          "output_type": "error",
          "ename": "KeyError",
          "evalue": "ignored",
          "traceback": [
            "\u001b[0;31m---------------------------------------------------------------------------\u001b[0m",
            "\u001b[0;31mKeyError\u001b[0m                                  Traceback (most recent call last)",
            "\u001b[0;32m<ipython-input-83-f078303c9979>\u001b[0m in \u001b[0;36m<cell line: 1>\u001b[0;34m()\u001b[0m\n\u001b[0;32m----> 1\u001b[0;31m \u001b[0mprint\u001b[0m\u001b[0;34m(\u001b[0m\u001b[0memails\u001b[0m\u001b[0;34m[\u001b[0m\u001b[0;34m'astah1@gmail.com'\u001b[0m\u001b[0;34m]\u001b[0m\u001b[0;34m)\u001b[0m\u001b[0;34m\u001b[0m\u001b[0;34m\u001b[0m\u001b[0m\n\u001b[0m",
            "\u001b[0;31mKeyError\u001b[0m: 'astah1@gmail.com'"
          ]
        }
      ]
    },
    {
      "cell_type": "markdown",
      "source": [
        "Module4_dict_operations"
      ],
      "metadata": {
        "id": "Bc5LnsjXq7uH"
      }
    },
    {
      "cell_type": "code",
      "source": [
        "grades = {}\n",
        "grades['John'] = 'A-'\n",
        "grades['Anne'] = 'B'"
      ],
      "metadata": {
        "id": "Pk5hZIExquSU"
      },
      "execution_count": null,
      "outputs": []
    },
    {
      "cell_type": "code",
      "source": [
        "print(grades)"
      ],
      "metadata": {
        "colab": {
          "base_uri": "https://localhost:8080/"
        },
        "id": "oSiSRGMorO06",
        "outputId": "8f591994-12e4-405f-83c4-e91d08c69dae"
      },
      "execution_count": null,
      "outputs": [
        {
          "output_type": "stream",
          "name": "stdout",
          "text": [
            "{'John': 'A-', 'Anne': 'B'}\n"
          ]
        }
      ]
    },
    {
      "cell_type": "code",
      "source": [
        "grades['Anne'] = 'A'\n",
        "print(grades)"
      ],
      "metadata": {
        "colab": {
          "base_uri": "https://localhost:8080/"
        },
        "id": "WgGsITK5rRGK",
        "outputId": "2685c2ab-3c9f-4d4f-ee75-18f7ba2a48f0"
      },
      "execution_count": null,
      "outputs": [
        {
          "output_type": "stream",
          "name": "stdout",
          "text": [
            "{'John': 'A-', 'Anne': 'A'}\n"
          ]
        }
      ]
    },
    {
      "cell_type": "code",
      "source": [
        "grades.update({'John':'A'})"
      ],
      "metadata": {
        "id": "T56nd46ara4J"
      },
      "execution_count": null,
      "outputs": []
    },
    {
      "cell_type": "code",
      "source": [
        "print(grades)\n",
        "len(grades)"
      ],
      "metadata": {
        "colab": {
          "base_uri": "https://localhost:8080/"
        },
        "id": "5gCN0HuQrkLx",
        "outputId": "46fdc7c4-3ec9-497d-dc8e-44b057650124"
      },
      "execution_count": null,
      "outputs": [
        {
          "output_type": "stream",
          "name": "stdout",
          "text": [
            "{'John': 'A', 'Anne': 'A'}\n"
          ]
        },
        {
          "output_type": "execute_result",
          "data": {
            "text/plain": [
              "2"
            ]
          },
          "metadata": {},
          "execution_count": 98
        }
      ]
    },
    {
      "cell_type": "code",
      "source": [
        "if 'John' in grades:\n",
        "  print('John got:', grades['John'])"
      ],
      "metadata": {
        "colab": {
          "base_uri": "https://localhost:8080/"
        },
        "id": "gPbch6v2rl4b",
        "outputId": "73fad6d6-abc1-4932-dad9-c43135a46c63"
      },
      "execution_count": null,
      "outputs": [
        {
          "output_type": "stream",
          "name": "stdout",
          "text": [
            "John got: A\n"
          ]
        }
      ]
    },
    {
      "cell_type": "code",
      "source": [
        "del grades['John']"
      ],
      "metadata": {
        "id": "RewdQTfQr-Bg"
      },
      "execution_count": null,
      "outputs": []
    },
    {
      "cell_type": "code",
      "source": [
        "print(grades)"
      ],
      "metadata": {
        "colab": {
          "base_uri": "https://localhost:8080/"
        },
        "id": "bFpCwrMFsEZ3",
        "outputId": "5e4b6ece-7493-4e18-d1a6-f1a58eb8b480"
      },
      "execution_count": null,
      "outputs": [
        {
          "output_type": "stream",
          "name": "stdout",
          "text": [
            "{'Anne': 'A'}\n"
          ]
        }
      ]
    },
    {
      "cell_type": "code",
      "source": [
        "grades = {}\n",
        "grades['John'] = 'A-'\n",
        "grades['Anne'] = 'B'"
      ],
      "metadata": {
        "id": "aKI95Dx2sbrz"
      },
      "execution_count": null,
      "outputs": []
    },
    {
      "cell_type": "code",
      "source": [
        "for el in grades:\n",
        "  print(el)"
      ],
      "metadata": {
        "colab": {
          "base_uri": "https://localhost:8080/"
        },
        "id": "KrMjhpu9sd5_",
        "outputId": "aeb1ac7e-26c5-408d-e148-544cb7c01307"
      },
      "execution_count": null,
      "outputs": [
        {
          "output_type": "stream",
          "name": "stdout",
          "text": [
            "John\n",
            "Anne\n"
          ]
        }
      ]
    },
    {
      "cell_type": "code",
      "source": [
        "for el in grades.keys():\n",
        "  print(el)"
      ],
      "metadata": {
        "colab": {
          "base_uri": "https://localhost:8080/"
        },
        "id": "7c7YYjp_sjkd",
        "outputId": "5747c7ca-1ace-416d-f8b8-42746e3c360f"
      },
      "execution_count": null,
      "outputs": [
        {
          "output_type": "stream",
          "name": "stdout",
          "text": [
            "John\n",
            "Anne\n"
          ]
        }
      ]
    },
    {
      "cell_type": "code",
      "source": [
        "for el in grades.values():\n",
        "  print(el)"
      ],
      "metadata": {
        "colab": {
          "base_uri": "https://localhost:8080/"
        },
        "id": "BiWGgSYOsxKt",
        "outputId": "1a2d22d7-75f0-458f-cb96-625f11b74f42"
      },
      "execution_count": null,
      "outputs": [
        {
          "output_type": "stream",
          "name": "stdout",
          "text": [
            "A-\n",
            "B\n"
          ]
        }
      ]
    },
    {
      "cell_type": "code",
      "source": [
        "for person, grade in grades.items():\n",
        "  print(person, 'got', grade)"
      ],
      "metadata": {
        "colab": {
          "base_uri": "https://localhost:8080/"
        },
        "id": "RZyRz7ghs0dl",
        "outputId": "c300a2b6-887e-4e58-c347-44108010c642"
      },
      "execution_count": null,
      "outputs": [
        {
          "output_type": "stream",
          "name": "stdout",
          "text": [
            "John got A-\n",
            "Anne got B\n"
          ]
        }
      ]
    },
    {
      "cell_type": "markdown",
      "source": [
        "Exercise\n",
        "Interactive Dictionary\n",
        "Write a program that implements a simple interactive dictionary. Start by prompting the user with the following:\n",
        "\n",
        "Enter a word in English or EXIT: << put a space at the end of this message\n",
        "\n",
        "When the user enters EXIT in capital letters, terminate the program with the following:\n",
        "\n",
        "Bye!\n",
        "\n",
        "Otherwise, try to find the German equivalent in the dictionary provided in the exercise.\n",
        "\n",
        "a. if the word is in the dictionary, print: Translation: {} << replace {} with the word from the dictionary\n",
        "b. if the word is not in the dictionary, print: No match!\n",
        "\n",
        "You should keep asking the user for new words with the same prompt ('Enter a word in English or EXIT: ') until the user provides EXIT.\n",
        "\n",
        "Here's an example of how the program could work with user input shown in the bold:\n",
        "\n",
        "Enter a word in English or EXIT: dog\n",
        "No match!\n",
        "Enter a word in English or EXIT: face\n",
        "Translation: Gesicht\n",
        "Enter a word in English or EXIT: EXIT\n",
        "Bye!"
      ],
      "metadata": {
        "id": "1PvlNx05tLG2"
      }
    },
    {
      "cell_type": "code",
      "source": [
        "sample_dict = {\n",
        "    \"mouth\": \"Mund\",\n",
        "    \"finger\": \"Finger\",\n",
        "    \"leg\": \"Bein\",\n",
        "    \"hand\": \"Hand\",\n",
        "    \"face\": \"Gesicht\",\n",
        "    \"nose\": \"Nase\"\n",
        "}\n",
        " \n",
        "while True:\n",
        "    user_input = input('Enter a word in English or EXIT: ')\n",
        "    if user_input == 'EXIT':\n",
        "        break\n",
        "    if user_input in sample_dict:\n",
        "        print ('Translation:', sample_dict[user_input])\n",
        "    else:\n",
        "        print('No match!')\n",
        " \n",
        "print('Bye!')"
      ],
      "metadata": {
        "colab": {
          "base_uri": "https://localhost:8080/"
        },
        "id": "sltOxGYis_lz",
        "outputId": "b30cde05-aad1-4fa7-8a95-bd333345b9f7"
      },
      "execution_count": null,
      "outputs": [
        {
          "output_type": "stream",
          "name": "stdout",
          "text": [
            "Enter a word in English or EXIT: mouth\n",
            "Translation: Mund\n",
            "Enter a word in English or EXIT: EXIT\n",
            "Bye!\n"
          ]
        }
      ]
    },
    {
      "cell_type": "markdown",
      "source": [
        "Module5_intro_functions"
      ],
      "metadata": {
        "id": "DSF-pmJJQJzo"
      }
    },
    {
      "cell_type": "code",
      "source": [
        "def greet():\n",
        "  print('Hello, my dear!')\n",
        "greet()"
      ],
      "metadata": {
        "colab": {
          "base_uri": "https://localhost:8080/"
        },
        "id": "OCCKDTIbtd-4",
        "outputId": "69f652b6-3e94-4c23-9756-e23b6fbef641"
      },
      "execution_count": null,
      "outputs": [
        {
          "output_type": "stream",
          "name": "stdout",
          "text": [
            "Hello, my dear!\n"
          ]
        }
      ]
    },
    {
      "cell_type": "code",
      "source": [
        "input_numbers = [5.0, 3.5, 7.8, 9.9, 10.0]\n",
        "\n",
        "sum = 0.0\n",
        "for number in input_numbers:\n",
        "  sum += number\n",
        "average = sum / len(input_numbers)\n",
        "\n",
        "print(average)"
      ],
      "metadata": {
        "colab": {
          "base_uri": "https://localhost:8080/"
        },
        "id": "m1s_rzZNSA3o",
        "outputId": "174b8531-087d-4ddf-9d48-99e1803c545a"
      },
      "execution_count": null,
      "outputs": [
        {
          "output_type": "stream",
          "name": "stdout",
          "text": [
            "7.24\n"
          ]
        }
      ]
    },
    {
      "cell_type": "code",
      "source": [
        "def get_average(input_numbers):\n",
        "  sum = 0.0\n",
        "  for number in input_numbers:\n",
        "    sum += number\n",
        "  average = sum / len(input_numbers)\n",
        "  print(average)\n",
        "get_average([5.0, 3.5, 7.8, 9.9, 10.0])"
      ],
      "metadata": {
        "colab": {
          "base_uri": "https://localhost:8080/"
        },
        "id": "sMtXO-HOSlTN",
        "outputId": "90eeec09-5f3b-4951-bc17-206aaa10e6f1"
      },
      "execution_count": null,
      "outputs": [
        {
          "output_type": "stream",
          "name": "stdout",
          "text": [
            "7.24\n"
          ]
        }
      ]
    },
    {
      "cell_type": "code",
      "source": [
        "def print_letter_count(text, letter):\n",
        "  counter = 0\n",
        "  for char in text:\n",
        "    if char == letter:\n",
        "      counter +=1\n",
        "  print('Number of', letter, 'is', counter)"
      ],
      "metadata": {
        "id": "QcVUDMWwS0ST"
      },
      "execution_count": null,
      "outputs": []
    },
    {
      "cell_type": "code",
      "source": [
        "print_letter_count('Welcome', 'e')"
      ],
      "metadata": {
        "colab": {
          "base_uri": "https://localhost:8080/"
        },
        "id": "qd1LZfwlVOfj",
        "outputId": "34a25991-a581-4e5f-cd0e-3a781c06d6b5"
      },
      "execution_count": null,
      "outputs": [
        {
          "output_type": "stream",
          "name": "stdout",
          "text": [
            "Number of e is 2\n"
          ]
        }
      ]
    },
    {
      "cell_type": "code",
      "source": [
        "print_letter_count('People say nothing is impossible, but I do nothing every day.', 'a')"
      ],
      "metadata": {
        "colab": {
          "base_uri": "https://localhost:8080/"
        },
        "id": "4nT4pgCXVfgD",
        "outputId": "1f7954ea-bf7b-4cbd-83f8-c86c4d86845c"
      },
      "execution_count": null,
      "outputs": [
        {
          "output_type": "stream",
          "name": "stdout",
          "text": [
            "Number of a is 2\n"
          ]
        }
      ]
    },
    {
      "cell_type": "markdown",
      "source": [
        "Module5_default_param_values"
      ],
      "metadata": {
        "id": "eUL9Hej_ZTro"
      }
    },
    {
      "cell_type": "code",
      "source": [
        "print('Hello', 'How are you', end='.', sep='-')"
      ],
      "metadata": {
        "colab": {
          "base_uri": "https://localhost:8080/"
        },
        "id": "J6e709CvWJOh",
        "outputId": "557d5d3f-5a99-446f-8e35-715f49375b62"
      },
      "execution_count": null,
      "outputs": [
        {
          "output_type": "stream",
          "name": "stdout",
          "text": [
            "Hello-How are you."
          ]
        }
      ]
    },
    {
      "cell_type": "code",
      "source": [
        "def print_letter_count(text, letter='a'):\n",
        "  counter = 0\n",
        "  for char in text:\n",
        "    if char == letter:\n",
        "      counter += 1\n",
        "  print('Number of', letter, 'is', counter)\n",
        "\n",
        "print_letter_count('How many letters a are here?')"
      ],
      "metadata": {
        "colab": {
          "base_uri": "https://localhost:8080/"
        },
        "id": "-sZkZr4Ya70h",
        "outputId": "d1d55cdc-3149-46b3-bf81-679050d6f50f"
      },
      "execution_count": null,
      "outputs": [
        {
          "output_type": "stream",
          "name": "stdout",
          "text": [
            "Number of a is 3\n"
          ]
        }
      ]
    },
    {
      "cell_type": "markdown",
      "source": [
        "Module5_name_scopes"
      ],
      "metadata": {
        "id": "q9jKF3dcb4Ct"
      }
    },
    {
      "cell_type": "code",
      "source": [
        "def show_truth():\n",
        "  mysterious_var = 'Surprise'\n",
        "  print(mysterious_var)\n",
        "show_truth()"
      ],
      "metadata": {
        "colab": {
          "base_uri": "https://localhost:8080/"
        },
        "id": "hJTvt7cqbYq2",
        "outputId": "6bb7e675-601a-41b9-937a-a27e8f807d31"
      },
      "execution_count": null,
      "outputs": [
        {
          "output_type": "stream",
          "name": "stdout",
          "text": [
            "Surprise\n"
          ]
        }
      ]
    },
    {
      "cell_type": "code",
      "source": [
        "def show_truth():\n",
        "  mysterious_var = 'New Surprise!' #local variable\n",
        "  print(mysterious_var)\n",
        "\n",
        "mysterious_var = 'Surprise!' #global variable\n",
        "print(mysterious_var)\n",
        "show_truth() \n",
        "print(mysterious_var)"
      ],
      "metadata": {
        "colab": {
          "base_uri": "https://localhost:8080/"
        },
        "id": "kgP1Ea3XgeBf",
        "outputId": "3a0dc1de-00bb-4840-96cf-5cf1df3d7a4f"
      },
      "execution_count": null,
      "outputs": [
        {
          "output_type": "stream",
          "name": "stdout",
          "text": [
            "Surprise!\n",
            "New Surprise!\n",
            "Surprise!\n"
          ]
        }
      ]
    },
    {
      "cell_type": "code",
      "source": [
        "def show_truth():\n",
        "  global mysterious_var\n",
        "  mysterious_var = 'New Surprise!' #now global variable\n",
        "  print(mysterious_var)\n",
        "\n",
        "mysterious_var = 'Surprise!' #global variable\n",
        "print(mysterious_var)\n",
        "show_truth() \n",
        "print(mysterious_var)"
      ],
      "metadata": {
        "colab": {
          "base_uri": "https://localhost:8080/"
        },
        "id": "9YWpBg5wgxdD",
        "outputId": "043c8684-ced8-4f5c-b6cb-39088ecfd4a0"
      },
      "execution_count": null,
      "outputs": [
        {
          "output_type": "stream",
          "name": "stdout",
          "text": [
            "Surprise!\n",
            "New Surprise!\n",
            "New Surprise!\n"
          ]
        }
      ]
    },
    {
      "cell_type": "code",
      "source": [
        "def show_truth():\n",
        "  mysterious_var.append('New Surprise!') \n",
        "  print(mysterious_var)\n",
        "\n",
        "mysterious_var = ['Surprise!'] \n",
        "print(mysterious_var)\n",
        "show_truth() \n",
        "print(mysterious_var)"
      ],
      "metadata": {
        "colab": {
          "base_uri": "https://localhost:8080/"
        },
        "id": "L48w0TJIisCH",
        "outputId": "642ec885-9b41-4a4d-c2f4-3704f79d854f"
      },
      "execution_count": null,
      "outputs": [
        {
          "output_type": "stream",
          "name": "stdout",
          "text": [
            "['Surprise!']\n",
            "['Surprise!', 'New Surprise!']\n",
            "['Surprise!', 'New Surprise!']\n"
          ]
        }
      ]
    },
    {
      "cell_type": "markdown",
      "source": [
        "Module5_none"
      ],
      "metadata": {
        "id": "IJbbTuQbjwZa"
      }
    },
    {
      "cell_type": "code",
      "source": [
        "print_return = print('Hello World!')\n",
        "print(print_return)"
      ],
      "metadata": {
        "colab": {
          "base_uri": "https://localhost:8080/"
        },
        "id": "0VN_HEJqjyvc",
        "outputId": "1dd29be0-afe4-40e6-9d47-1cbd1176d936"
      },
      "execution_count": null,
      "outputs": [
        {
          "output_type": "stream",
          "name": "stdout",
          "text": [
            "Hello World!\n",
            "None\n"
          ]
        }
      ]
    },
    {
      "cell_type": "code",
      "source": [
        "x= None\n",
        "\n",
        "if x:\n",
        "  print('None is True')\n",
        "elif x is False:\n",
        "  print('None is False')\n",
        "else:\n",
        "  print('None is not True, or False, None ´s just None')"
      ],
      "metadata": {
        "colab": {
          "base_uri": "https://localhost:8080/"
        },
        "id": "ugdSmLr3ktl2",
        "outputId": "1335a853-8bd5-4998-a2b9-4077bd4b0cc4"
      },
      "execution_count": null,
      "outputs": [
        {
          "output_type": "stream",
          "name": "stdout",
          "text": [
            "None is not True, or False, None ´s just None\n"
          ]
        }
      ]
    },
    {
      "cell_type": "markdown",
      "source": [
        "Module5_return"
      ],
      "metadata": {
        "id": "fTgD2--tli6v"
      }
    },
    {
      "cell_type": "code",
      "source": [
        "def get_average(input_numbers):\n",
        "  sum = 0.0\n",
        "  for number in input_numbers:\n",
        "    sum += number\n",
        "  average = sum / len(input_numbers)\n",
        "  return average"
      ],
      "metadata": {
        "id": "cStcrVMWlJaU"
      },
      "execution_count": null,
      "outputs": []
    },
    {
      "cell_type": "code",
      "source": [
        "print('The average is:', get_average([5.0, 3.5, 7.8, 9.9, 10.0]))"
      ],
      "metadata": {
        "colab": {
          "base_uri": "https://localhost:8080/"
        },
        "id": "wwXhwa5cmEB5",
        "outputId": "f24fd46e-09fe-458e-8ab8-f4f3b0e0e3b2"
      },
      "execution_count": null,
      "outputs": [
        {
          "output_type": "stream",
          "name": "stdout",
          "text": [
            "The average is: 7.24\n"
          ]
        }
      ]
    },
    {
      "cell_type": "code",
      "source": [
        "average = get_average([5.0, 3.5, 7.8, 9.9, 10.0])\n",
        "if average > 5.0:\n",
        "  print('The average is too high!')"
      ],
      "metadata": {
        "colab": {
          "base_uri": "https://localhost:8080/"
        },
        "id": "l4_Vy2SkmRSZ",
        "outputId": "f8736f75-583a-4de8-f7ce-e4a5e2d3e1a7"
      },
      "execution_count": null,
      "outputs": [
        {
          "output_type": "stream",
          "name": "stdout",
          "text": [
            "The average is too high!\n"
          ]
        }
      ]
    },
    {
      "cell_type": "markdown",
      "source": [
        "Exercise:\n",
        "Get Rid of Duplicates!\n",
        "Write a function named unique. The function should accept one parameter, which is a list with any number of elements inside. The default value for the parameter should be an empty list ([]).\n",
        "\n",
        "The function should return a new list with all duplicate elements removed. The function should preserve the original order of elements.\n",
        "\n",
        "Example 1: for unique([1, 1, 4, 5, 1]), the output should be [1, 4, 5]\n",
        "Example 2: for unique(['Mark', 'Mark', 'John', 'Anne']), the output should be  ['Mark', 'John', 'Anne']"
      ],
      "metadata": {
        "id": "HV3ApDzDnRAW"
      }
    },
    {
      "cell_type": "code",
      "source": [
        "def unique(input_list=[]):\n",
        "  to_return = []\n",
        "  for el in input_list:\n",
        "    if el not in to_return:\n",
        "      to_return.append(el)\n",
        "  return to_return"
      ],
      "metadata": {
        "id": "UKHqMNKumlBv"
      },
      "execution_count": null,
      "outputs": []
    },
    {
      "cell_type": "code",
      "source": [
        " unique([1, 1, 4, 5, 1])"
      ],
      "metadata": {
        "colab": {
          "base_uri": "https://localhost:8080/"
        },
        "id": "tb1sfVC1nb2y",
        "outputId": "3b585a38-2cea-4fa8-aa9e-c4ad58a49ef4"
      },
      "execution_count": null,
      "outputs": [
        {
          "output_type": "execute_result",
          "data": {
            "text/plain": [
              "[1, 4, 5]"
            ]
          },
          "metadata": {},
          "execution_count": 149
        }
      ]
    },
    {
      "cell_type": "markdown",
      "source": [
        "Module5_recursion"
      ],
      "metadata": {
        "id": "cKW5OLapppw4"
      }
    },
    {
      "cell_type": "code",
      "source": [
        "# factorial\n",
        "# 3! = 1 * 2 * 3 = 6"
      ],
      "metadata": {
        "id": "pWWCfLPcprnM"
      },
      "execution_count": null,
      "outputs": []
    },
    {
      "cell_type": "code",
      "source": [
        "#iterative\n",
        "def get_factorial(number):\n",
        "  factorial = 1\n",
        "  for x in range(1, number + 1):\n",
        "    factorial *= x\n",
        "  return factorial"
      ],
      "metadata": {
        "id": "t7HEADhap6mF"
      },
      "execution_count": null,
      "outputs": []
    },
    {
      "cell_type": "code",
      "source": [
        "print(get_factorial(6))"
      ],
      "metadata": {
        "colab": {
          "base_uri": "https://localhost:8080/"
        },
        "id": "R5s6OKGWqSBN",
        "outputId": "b4df5f50-eb0d-4408-8cc4-24b4165076c8"
      },
      "execution_count": null,
      "outputs": [
        {
          "output_type": "stream",
          "name": "stdout",
          "text": [
            "720\n"
          ]
        }
      ]
    },
    {
      "cell_type": "code",
      "source": [
        "def get_factorial_recursive(number):\n",
        "  if number <= 1:\n",
        "    return 1\n",
        "  return number * get_factorial_recursive(number - 1)"
      ],
      "metadata": {
        "id": "-5YM7LRtqUXT"
      },
      "execution_count": null,
      "outputs": []
    },
    {
      "cell_type": "code",
      "source": [
        "get_factorial_recursive(6)"
      ],
      "metadata": {
        "colab": {
          "base_uri": "https://localhost:8080/"
        },
        "id": "2OzOLUB7qqXB",
        "outputId": "bdaacf89-db93-4a41-93b1-51d61fda9cd7"
      },
      "execution_count": null,
      "outputs": [
        {
          "output_type": "execute_result",
          "data": {
            "text/plain": [
              "720"
            ]
          },
          "metadata": {},
          "execution_count": 158
        }
      ]
    },
    {
      "cell_type": "markdown",
      "source": [
        "Module5_Generators"
      ],
      "metadata": {
        "id": "9M7Yq7gWrRoy"
      }
    },
    {
      "cell_type": "code",
      "source": [
        "def get_number():\n",
        "  for i in range(1, 4):\n",
        "    yield i"
      ],
      "metadata": {
        "id": "dgWRD_dkq-Mq"
      },
      "execution_count": null,
      "outputs": []
    },
    {
      "cell_type": "code",
      "source": [
        "print(get_number())"
      ],
      "metadata": {
        "colab": {
          "base_uri": "https://localhost:8080/"
        },
        "id": "x9UezRsirqjR",
        "outputId": "7fb848ba-c8b8-4eea-decb-753a58cbc642"
      },
      "execution_count": null,
      "outputs": [
        {
          "output_type": "stream",
          "name": "stdout",
          "text": [
            "<generator object get_number at 0x7f88931f3eb0>\n"
          ]
        }
      ]
    },
    {
      "cell_type": "code",
      "source": [
        "generator = get_number()\n",
        "print(next(generator))\n",
        "print(next(generator))\n",
        "print(next(generator))"
      ],
      "metadata": {
        "colab": {
          "base_uri": "https://localhost:8080/"
        },
        "id": "sWjrm6Qqrs4u",
        "outputId": "7141985c-9563-4183-8921-7023d3e29164"
      },
      "execution_count": null,
      "outputs": [
        {
          "output_type": "stream",
          "name": "stdout",
          "text": [
            "1\n",
            "2\n",
            "3\n"
          ]
        }
      ]
    },
    {
      "cell_type": "code",
      "source": [
        "for x in get_number():\n",
        "  print(x)"
      ],
      "metadata": {
        "colab": {
          "base_uri": "https://localhost:8080/"
        },
        "id": "gFJ410F0r9h0",
        "outputId": "e9899b06-b753-4f7b-d99b-7740fef7b5b8"
      },
      "execution_count": null,
      "outputs": [
        {
          "output_type": "stream",
          "name": "stdout",
          "text": [
            "1\n",
            "2\n",
            "3\n"
          ]
        }
      ]
    },
    {
      "cell_type": "code",
      "source": [
        "numbers = list(get_number())\n",
        "print(numbers)"
      ],
      "metadata": {
        "colab": {
          "base_uri": "https://localhost:8080/"
        },
        "id": "VOiYGtcbsZhS",
        "outputId": "106f4a14-9981-4848-9adf-6187707f8786"
      },
      "execution_count": null,
      "outputs": [
        {
          "output_type": "stream",
          "name": "stdout",
          "text": [
            "[1, 2, 3]\n"
          ]
        }
      ]
    },
    {
      "cell_type": "markdown",
      "source": [
        "Module5_exception_intro"
      ],
      "metadata": {
        "id": "LMDd9EILstWd"
      }
    },
    {
      "cell_type": "code",
      "source": [
        "if True:\n",
        "print('hooray!!')"
      ],
      "metadata": {
        "colab": {
          "base_uri": "https://localhost:8080/",
          "height": 130
        },
        "id": "lfSuXpXMsdCs",
        "outputId": "b1d7ae25-fdf4-4cf6-afe1-4f241ddbf14e"
      },
      "execution_count": null,
      "outputs": [
        {
          "output_type": "error",
          "ename": "IndentationError",
          "evalue": "ignored",
          "traceback": [
            "\u001b[0;36m  File \u001b[0;32m\"<ipython-input-168-e8f9ce17eb1a>\"\u001b[0;36m, line \u001b[0;32m2\u001b[0m\n\u001b[0;31m    print('hooray!!')\u001b[0m\n\u001b[0m    ^\u001b[0m\n\u001b[0;31mIndentationError\u001b[0m\u001b[0;31m:\u001b[0m expected an indented block\n"
          ]
        }
      ]
    },
    {
      "cell_type": "code",
      "source": [
        "value = int(input('Enter an integer: '))\n",
        "print('The inverse of', value, 1/value)"
      ],
      "metadata": {
        "colab": {
          "base_uri": "https://localhost:8080/",
          "height": 200
        },
        "id": "zZByernZs-rU",
        "outputId": "15a2ca28-b4de-4d23-c829-d8b1a7987991"
      },
      "execution_count": null,
      "outputs": [
        {
          "name": "stdout",
          "output_type": "stream",
          "text": [
            "Enter an integer: a\n"
          ]
        },
        {
          "output_type": "error",
          "ename": "ValueError",
          "evalue": "ignored",
          "traceback": [
            "\u001b[0;31m---------------------------------------------------------------------------\u001b[0m",
            "\u001b[0;31mValueError\u001b[0m                                Traceback (most recent call last)",
            "\u001b[0;32m<ipython-input-170-6188dd3fa3d2>\u001b[0m in \u001b[0;36m<cell line: 1>\u001b[0;34m()\u001b[0m\n\u001b[0;32m----> 1\u001b[0;31m \u001b[0mvalue\u001b[0m \u001b[0;34m=\u001b[0m \u001b[0mint\u001b[0m\u001b[0;34m(\u001b[0m\u001b[0minput\u001b[0m\u001b[0;34m(\u001b[0m\u001b[0;34m'Enter an integer: '\u001b[0m\u001b[0;34m)\u001b[0m\u001b[0;34m)\u001b[0m\u001b[0;34m\u001b[0m\u001b[0;34m\u001b[0m\u001b[0m\n\u001b[0m\u001b[1;32m      2\u001b[0m \u001b[0mprint\u001b[0m\u001b[0;34m(\u001b[0m\u001b[0;34m'The inverse of'\u001b[0m\u001b[0;34m,\u001b[0m \u001b[0mvalue\u001b[0m\u001b[0;34m,\u001b[0m \u001b[0;36m1\u001b[0m\u001b[0;34m/\u001b[0m\u001b[0mvalue\u001b[0m\u001b[0;34m)\u001b[0m\u001b[0;34m\u001b[0m\u001b[0;34m\u001b[0m\u001b[0m\n",
            "\u001b[0;31mValueError\u001b[0m: invalid literal for int() with base 10: 'a'"
          ]
        }
      ]
    },
    {
      "cell_type": "code",
      "source": [
        "try:\n",
        "  value = int(input('Enter an integer: '))\n",
        "  print('The inverse of', value, 1/value)\n",
        "except:\n",
        "  print('You did not provide a number, so I will not calculate the inverse')"
      ],
      "metadata": {
        "colab": {
          "base_uri": "https://localhost:8080/"
        },
        "id": "jJN2USAdtQYP",
        "outputId": "245ebcf4-8f3f-4af8-e85b-4632e022cd76"
      },
      "execution_count": null,
      "outputs": [
        {
          "output_type": "stream",
          "name": "stdout",
          "text": [
            "Enter an integer: a\n",
            "You did not provide a number, so I will not calculate the inverse\n"
          ]
        }
      ]
    },
    {
      "cell_type": "code",
      "source": [
        "value = int(input('Enter an integer: '))\n",
        "print('The inverse of', value, 1/value)"
      ],
      "metadata": {
        "colab": {
          "base_uri": "https://localhost:8080/",
          "height": 200
        },
        "id": "Z2PlsbNjucu8",
        "outputId": "51315064-5b6c-4209-95c3-e847e7eef53b"
      },
      "execution_count": null,
      "outputs": [
        {
          "name": "stdout",
          "output_type": "stream",
          "text": [
            "Enter an integer: 0\n"
          ]
        },
        {
          "output_type": "error",
          "ename": "ZeroDivisionError",
          "evalue": "ignored",
          "traceback": [
            "\u001b[0;31m---------------------------------------------------------------------------\u001b[0m",
            "\u001b[0;31mZeroDivisionError\u001b[0m                         Traceback (most recent call last)",
            "\u001b[0;32m<ipython-input-172-6188dd3fa3d2>\u001b[0m in \u001b[0;36m<cell line: 2>\u001b[0;34m()\u001b[0m\n\u001b[1;32m      1\u001b[0m \u001b[0mvalue\u001b[0m \u001b[0;34m=\u001b[0m \u001b[0mint\u001b[0m\u001b[0;34m(\u001b[0m\u001b[0minput\u001b[0m\u001b[0;34m(\u001b[0m\u001b[0;34m'Enter an integer: '\u001b[0m\u001b[0;34m)\u001b[0m\u001b[0;34m)\u001b[0m\u001b[0;34m\u001b[0m\u001b[0;34m\u001b[0m\u001b[0m\n\u001b[0;32m----> 2\u001b[0;31m \u001b[0mprint\u001b[0m\u001b[0;34m(\u001b[0m\u001b[0;34m'The inverse of'\u001b[0m\u001b[0;34m,\u001b[0m \u001b[0mvalue\u001b[0m\u001b[0;34m,\u001b[0m \u001b[0;36m1\u001b[0m\u001b[0;34m/\u001b[0m\u001b[0mvalue\u001b[0m\u001b[0;34m)\u001b[0m\u001b[0;34m\u001b[0m\u001b[0;34m\u001b[0m\u001b[0m\n\u001b[0m",
            "\u001b[0;31mZeroDivisionError\u001b[0m: division by zero"
          ]
        }
      ]
    },
    {
      "cell_type": "code",
      "source": [
        "try:\n",
        "  value = int(input('Enter an integer: '))\n",
        "  print('The inverse of', value, 1/value)\n",
        "except ValueError:\n",
        "  print('You did not provide a number, so I will not calculate the inverse')\n",
        "except ZeroDivisionError:\n",
        "  print('You provided 0 an division is not possible, sorry')\n",
        "except:\n",
        "  print('Something strange happened here, sorry!')"
      ],
      "metadata": {
        "colab": {
          "base_uri": "https://localhost:8080/"
        },
        "id": "8miMmxKNvHuj",
        "outputId": "9504a5c2-9469-459b-e7e4-62831f8f1985"
      },
      "execution_count": null,
      "outputs": [
        {
          "output_type": "stream",
          "name": "stdout",
          "text": [
            "Enter an integer: 0\n",
            "You provided 0 an division is not possible, sorry\n"
          ]
        }
      ]
    },
    {
      "cell_type": "markdown",
      "source": [
        "Module5_exception_hierarchy"
      ],
      "metadata": {
        "id": "uE75qhj28AhU"
      }
    },
    {
      "cell_type": "code",
      "source": [
        "import sys\n",
        "user_name = input('What is your name?')\n",
        "if user_name == '':\n",
        "  print('Empty name? I cannot work with that. I am closing the program. Bye!')\n",
        "  sys.exit()\n",
        "print('Hello', user_name)\n",
        "print('Let us get started...')"
      ],
      "metadata": {
        "colab": {
          "base_uri": "https://localhost:8080/",
          "height": 183
        },
        "id": "C_LMlBm48ETY",
        "outputId": "c79e398b-b238-4185-98bf-8822c31e7d3b"
      },
      "execution_count": null,
      "outputs": [
        {
          "output_type": "stream",
          "name": "stdout",
          "text": [
            "What is your name?\n",
            "Empty name? I cannot work with that. I am closing the program. Bye!\n"
          ]
        },
        {
          "output_type": "error",
          "ename": "SystemExit",
          "evalue": "ignored",
          "traceback": [
            "An exception has occurred, use %tb to see the full traceback.\n",
            "\u001b[0;31mSystemExit\u001b[0m\n"
          ]
        },
        {
          "output_type": "stream",
          "name": "stderr",
          "text": [
            "/usr/local/lib/python3.9/dist-packages/IPython/core/interactiveshell.py:3561: UserWarning: To exit: use 'exit', 'quit', or Ctrl-D.\n",
            "  warn(\"To exit: use 'exit', 'quit', or Ctrl-D.\", stacklevel=1)\n"
          ]
        }
      ]
    },
    {
      "cell_type": "code",
      "source": [
        "programming_language = ['Java', 'Python', 'C++']\n",
        "print(programming_language[10])"
      ],
      "metadata": {
        "colab": {
          "base_uri": "https://localhost:8080/",
          "height": 183
        },
        "id": "1lkOvNwZ_AUp",
        "outputId": "b185b099-3c68-448e-c1d0-627543bc2a9d"
      },
      "execution_count": null,
      "outputs": [
        {
          "output_type": "error",
          "ename": "IndexError",
          "evalue": "ignored",
          "traceback": [
            "\u001b[0;31m---------------------------------------------------------------------------\u001b[0m",
            "\u001b[0;31mIndexError\u001b[0m                                Traceback (most recent call last)",
            "\u001b[0;32m<ipython-input-177-bbb373a5c519>\u001b[0m in \u001b[0;36m<cell line: 2>\u001b[0;34m()\u001b[0m\n\u001b[1;32m      1\u001b[0m \u001b[0mprogramming_language\u001b[0m \u001b[0;34m=\u001b[0m \u001b[0;34m[\u001b[0m\u001b[0;34m'Java'\u001b[0m\u001b[0;34m,\u001b[0m \u001b[0;34m'Python'\u001b[0m\u001b[0;34m,\u001b[0m \u001b[0;34m'C++'\u001b[0m\u001b[0;34m]\u001b[0m\u001b[0;34m\u001b[0m\u001b[0;34m\u001b[0m\u001b[0m\n\u001b[0;32m----> 2\u001b[0;31m \u001b[0mprint\u001b[0m\u001b[0;34m(\u001b[0m\u001b[0mprogramming_language\u001b[0m\u001b[0;34m[\u001b[0m\u001b[0;36m10\u001b[0m\u001b[0;34m]\u001b[0m\u001b[0;34m)\u001b[0m\u001b[0;34m\u001b[0m\u001b[0;34m\u001b[0m\u001b[0m\n\u001b[0m",
            "\u001b[0;31mIndexError\u001b[0m: list index out of range"
          ]
        }
      ]
    },
    {
      "cell_type": "code",
      "source": [
        "ages = {'Jim': 30, 'Pam': 28, 'Kevin': 33}\n",
        "ages['Michael']"
      ],
      "metadata": {
        "colab": {
          "base_uri": "https://localhost:8080/",
          "height": 183
        },
        "id": "Cu6pIype_Pu1",
        "outputId": "d944b8c9-f2a8-44ea-ecd4-caa8f32e2282"
      },
      "execution_count": null,
      "outputs": [
        {
          "output_type": "error",
          "ename": "KeyError",
          "evalue": "ignored",
          "traceback": [
            "\u001b[0;31m---------------------------------------------------------------------------\u001b[0m",
            "\u001b[0;31mKeyError\u001b[0m                                  Traceback (most recent call last)",
            "\u001b[0;32m<ipython-input-178-1b67c556d0cb>\u001b[0m in \u001b[0;36m<cell line: 2>\u001b[0;34m()\u001b[0m\n\u001b[1;32m      1\u001b[0m \u001b[0mages\u001b[0m \u001b[0;34m=\u001b[0m \u001b[0;34m{\u001b[0m\u001b[0;34m'Jim'\u001b[0m\u001b[0;34m:\u001b[0m \u001b[0;36m30\u001b[0m\u001b[0;34m,\u001b[0m \u001b[0;34m'Pam'\u001b[0m\u001b[0;34m:\u001b[0m \u001b[0;36m28\u001b[0m\u001b[0;34m,\u001b[0m \u001b[0;34m'Kevin'\u001b[0m\u001b[0;34m:\u001b[0m \u001b[0;36m33\u001b[0m\u001b[0;34m}\u001b[0m\u001b[0;34m\u001b[0m\u001b[0;34m\u001b[0m\u001b[0m\n\u001b[0;32m----> 2\u001b[0;31m \u001b[0mages\u001b[0m\u001b[0;34m[\u001b[0m\u001b[0;34m'Michael'\u001b[0m\u001b[0;34m]\u001b[0m\u001b[0;34m\u001b[0m\u001b[0;34m\u001b[0m\u001b[0m\n\u001b[0m",
            "\u001b[0;31mKeyError\u001b[0m: 'Michael'"
          ]
        }
      ]
    },
    {
      "cell_type": "code",
      "source": [
        "age = input('What is your age? ')\n",
        "print('In 10 years, you will be', age + 10)"
      ],
      "metadata": {
        "colab": {
          "base_uri": "https://localhost:8080/",
          "height": 200
        },
        "id": "VML8czFN_s78",
        "outputId": "088053b0-8c88-4514-ea65-3a30d71f8120"
      },
      "execution_count": null,
      "outputs": [
        {
          "name": "stdout",
          "output_type": "stream",
          "text": [
            "What is your age? c\n"
          ]
        },
        {
          "output_type": "error",
          "ename": "TypeError",
          "evalue": "ignored",
          "traceback": [
            "\u001b[0;31m---------------------------------------------------------------------------\u001b[0m",
            "\u001b[0;31mTypeError\u001b[0m                                 Traceback (most recent call last)",
            "\u001b[0;32m<ipython-input-179-6e3a372820d0>\u001b[0m in \u001b[0;36m<cell line: 2>\u001b[0;34m()\u001b[0m\n\u001b[1;32m      1\u001b[0m \u001b[0mage\u001b[0m \u001b[0;34m=\u001b[0m \u001b[0minput\u001b[0m\u001b[0;34m(\u001b[0m\u001b[0;34m'What is your age? '\u001b[0m\u001b[0;34m)\u001b[0m\u001b[0;34m\u001b[0m\u001b[0;34m\u001b[0m\u001b[0m\n\u001b[0;32m----> 2\u001b[0;31m \u001b[0mprint\u001b[0m\u001b[0;34m(\u001b[0m\u001b[0;34m'In 10 years, you will be'\u001b[0m\u001b[0;34m,\u001b[0m \u001b[0mage\u001b[0m \u001b[0;34m+\u001b[0m \u001b[0;36m10\u001b[0m\u001b[0;34m)\u001b[0m\u001b[0;34m\u001b[0m\u001b[0;34m\u001b[0m\u001b[0m\n\u001b[0m",
            "\u001b[0;31mTypeError\u001b[0m: can only concatenate str (not \"int\") to str"
          ]
        }
      ]
    },
    {
      "cell_type": "code",
      "source": [
        "age = int(input('What is your age? '))"
      ],
      "metadata": {
        "colab": {
          "base_uri": "https://localhost:8080/",
          "height": 183
        },
        "id": "bhc4vPmUAJD0",
        "outputId": "f132e245-fec2-47c7-b978-e0da3d3e5b03"
      },
      "execution_count": null,
      "outputs": [
        {
          "name": "stdout",
          "output_type": "stream",
          "text": [
            "What is your age? a\n"
          ]
        },
        {
          "output_type": "error",
          "ename": "ValueError",
          "evalue": "ignored",
          "traceback": [
            "\u001b[0;31m---------------------------------------------------------------------------\u001b[0m",
            "\u001b[0;31mValueError\u001b[0m                                Traceback (most recent call last)",
            "\u001b[0;32m<ipython-input-180-8e5ae8a11d84>\u001b[0m in \u001b[0;36m<cell line: 1>\u001b[0;34m()\u001b[0m\n\u001b[0;32m----> 1\u001b[0;31m \u001b[0mage\u001b[0m \u001b[0;34m=\u001b[0m \u001b[0mint\u001b[0m\u001b[0;34m(\u001b[0m\u001b[0minput\u001b[0m\u001b[0;34m(\u001b[0m\u001b[0;34m'What is your age? '\u001b[0m\u001b[0;34m)\u001b[0m\u001b[0;34m)\u001b[0m\u001b[0;34m\u001b[0m\u001b[0;34m\u001b[0m\u001b[0m\n\u001b[0m",
            "\u001b[0;31mValueError\u001b[0m: invalid literal for int() with base 10: 'a'"
          ]
        }
      ]
    },
    {
      "cell_type": "markdown",
      "source": [
        "Module5_exception_propagation"
      ],
      "metadata": {
        "id": "m9Gsh7wPAnsP"
      }
    },
    {
      "cell_type": "code",
      "source": [
        "def get_day(user_info):\n",
        "  day = int(input('What is the day of your bday? '))\n",
        "  user_info.append(day)\n",
        "\n",
        "def get_month(user_info):\n",
        "  month = int(input('What is the month of your bday? '))\n",
        "  user_info.append(month)\n",
        "\n",
        "def get_year(user_info):\n",
        "  year = int(input('What is the year of your bday?'))\n",
        "  user_info.append(year)\n",
        "\n",
        "def get_user_bday(user_info):\n",
        "  try:\n",
        "    get_day(user_info)\n",
        "    get_month(user_info)\n",
        "    get_year(user_info)\n",
        "    print('So your bday is', user_info)\n",
        "  except ValueError:\n",
        "    print('You entered incorrect data, bye!')\n",
        "\n",
        "print('Hi, I will collect some info about your bday!')\n",
        "user_info = []\n",
        "get_user_bday(user_info)"
      ],
      "metadata": {
        "colab": {
          "base_uri": "https://localhost:8080/"
        },
        "id": "_5JF41BlAP7D",
        "outputId": "5d05143e-ff78-4e78-f99f-0d99e0458fea"
      },
      "execution_count": null,
      "outputs": [
        {
          "output_type": "stream",
          "name": "stdout",
          "text": [
            "Hi, I will collect some info about your bday!\n",
            "What is the day of your bday? a\n",
            "You entered incorrect data, bye!\n"
          ]
        }
      ]
    },
    {
      "cell_type": "markdown",
      "source": [
        "Module5_assertions"
      ],
      "metadata": {
        "id": "rayEJ2AXCn78"
      }
    },
    {
      "cell_type": "code",
      "source": [
        "def calculate_inverse(number):\n",
        "  assert (number != 0), 'Got 0 as number!'\n",
        "  return 1/number\n",
        "\n",
        "calculate_inverse(0)"
      ],
      "metadata": {
        "colab": {
          "base_uri": "https://localhost:8080/",
          "height": 321
        },
        "id": "OBcys6t4CZ5a",
        "outputId": "ad5c8f6a-bf47-4c9c-da06-ee96f9a5c938"
      },
      "execution_count": null,
      "outputs": [
        {
          "output_type": "error",
          "ename": "AssertionError",
          "evalue": "ignored",
          "traceback": [
            "\u001b[0;31m---------------------------------------------------------------------------\u001b[0m",
            "\u001b[0;31mAssertionError\u001b[0m                            Traceback (most recent call last)",
            "\u001b[0;32m<ipython-input-183-433552571896>\u001b[0m in \u001b[0;36m<cell line: 5>\u001b[0;34m()\u001b[0m\n\u001b[1;32m      3\u001b[0m   \u001b[0;32mreturn\u001b[0m \u001b[0;36m1\u001b[0m\u001b[0;34m/\u001b[0m\u001b[0mnumber\u001b[0m\u001b[0;34m\u001b[0m\u001b[0;34m\u001b[0m\u001b[0m\n\u001b[1;32m      4\u001b[0m \u001b[0;34m\u001b[0m\u001b[0m\n\u001b[0;32m----> 5\u001b[0;31m \u001b[0mcalculate_inverse\u001b[0m\u001b[0;34m(\u001b[0m\u001b[0;36m0\u001b[0m\u001b[0;34m)\u001b[0m\u001b[0;34m\u001b[0m\u001b[0;34m\u001b[0m\u001b[0m\n\u001b[0m",
            "\u001b[0;32m<ipython-input-183-433552571896>\u001b[0m in \u001b[0;36mcalculate_inverse\u001b[0;34m(number)\u001b[0m\n\u001b[1;32m      1\u001b[0m \u001b[0;32mdef\u001b[0m \u001b[0mcalculate_inverse\u001b[0m\u001b[0;34m(\u001b[0m\u001b[0mnumber\u001b[0m\u001b[0;34m)\u001b[0m\u001b[0;34m:\u001b[0m\u001b[0;34m\u001b[0m\u001b[0;34m\u001b[0m\u001b[0m\n\u001b[0;32m----> 2\u001b[0;31m   \u001b[0;32massert\u001b[0m \u001b[0;34m(\u001b[0m\u001b[0mnumber\u001b[0m \u001b[0;34m!=\u001b[0m \u001b[0;36m0\u001b[0m\u001b[0;34m)\u001b[0m\u001b[0;34m,\u001b[0m \u001b[0;34m'Got 0 as number!'\u001b[0m\u001b[0;34m\u001b[0m\u001b[0;34m\u001b[0m\u001b[0m\n\u001b[0m\u001b[1;32m      3\u001b[0m   \u001b[0;32mreturn\u001b[0m \u001b[0;36m1\u001b[0m\u001b[0;34m/\u001b[0m\u001b[0mnumber\u001b[0m\u001b[0;34m\u001b[0m\u001b[0;34m\u001b[0m\u001b[0m\n\u001b[1;32m      4\u001b[0m \u001b[0;34m\u001b[0m\u001b[0m\n\u001b[1;32m      5\u001b[0m \u001b[0mcalculate_inverse\u001b[0m\u001b[0;34m(\u001b[0m\u001b[0;36m0\u001b[0m\u001b[0;34m)\u001b[0m\u001b[0;34m\u001b[0m\u001b[0;34m\u001b[0m\u001b[0m\n",
            "\u001b[0;31mAssertionError\u001b[0m: Got 0 as number!"
          ]
        }
      ]
    },
    {
      "cell_type": "code",
      "source": [],
      "metadata": {
        "id": "8yPE9BnUDJKH"
      },
      "execution_count": null,
      "outputs": []
    }
  ]
}